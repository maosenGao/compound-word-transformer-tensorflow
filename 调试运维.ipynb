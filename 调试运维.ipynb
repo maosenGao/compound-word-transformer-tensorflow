{
 "cells": [
  {
   "cell_type": "markdown",
   "id": "33143dbe-937b-4d02-abae-2b58d8c4b9b2",
   "metadata": {},
   "source": [
    "# 删除多余的kernel"
   ]
  },
  {
   "cell_type": "code",
   "execution_count": null,
   "id": "ec87ad90-32f9-4fb3-b479-a318376b0bcd",
   "metadata": {},
   "outputs": [],
   "source": [
    "!conda activate base # 在 base 环境下进行\n",
    "!jupyter kernelspec list\n",
    "# !jupyter kernelspec remove kernel_name # 可以连写多个"
   ]
  },
  {
   "cell_type": "code",
   "execution_count": null,
   "id": "0868dca3-22df-4d79-805e-f7b8406d8b45",
   "metadata": {},
   "outputs": [],
   "source": [
    "# !jupyter kernelspec remove pycharm-a247837a xpython -y# 可以连写多个"
   ]
  },
  {
   "cell_type": "code",
   "execution_count": 1,
   "id": "340ada8e-0c1f-49d7-9100-99094f606aaf",
   "metadata": {},
   "outputs": [
    {
     "name": "stdout",
     "output_type": "stream",
     "text": [
      "Collecting nbconvert==6.0.0\n",
      "  Downloading nbconvert-6.0.0-py3-none-any.whl (502 kB)\n",
      "     |████████████████████████████████| 502 kB 414 kB/s            \n",
      "\u001b[?25hRequirement already satisfied: entrypoints>=0.2.2 in /home/seugaoms/anaconda3/envs/python36/lib/python3.6/site-packages (from nbconvert==6.0.0) (0.3)\n",
      "Requirement already satisfied: mistune<2,>=0.8.1 in /home/seugaoms/anaconda3/envs/python36/lib/python3.6/site-packages (from nbconvert==6.0.0) (0.8.4)\n",
      "Requirement already satisfied: bleach in /home/seugaoms/anaconda3/envs/python36/lib/python3.6/site-packages (from nbconvert==6.0.0) (3.3.0)\n",
      "Requirement already satisfied: nbformat>=4.4 in /home/seugaoms/anaconda3/envs/python36/lib/python3.6/site-packages (from nbconvert==6.0.0) (5.1.3)\n",
      "Requirement already satisfied: testpath in /home/seugaoms/anaconda3/envs/python36/lib/python3.6/site-packages (from nbconvert==6.0.0) (0.4.4)\n",
      "Requirement already satisfied: traitlets>=4.2 in /home/seugaoms/anaconda3/envs/python36/lib/python3.6/site-packages (from nbconvert==6.0.0) (4.3.3)\n",
      "Requirement already satisfied: defusedxml in /home/seugaoms/anaconda3/envs/python36/lib/python3.6/site-packages (from nbconvert==6.0.0) (0.7.1)\n",
      "Requirement already satisfied: jinja2>=2.4 in /home/seugaoms/anaconda3/envs/python36/lib/python3.6/site-packages (from nbconvert==6.0.0) (3.0.2)\n",
      "Requirement already satisfied: jupyterlab-pygments in /home/seugaoms/anaconda3/envs/python36/lib/python3.6/site-packages (from nbconvert==6.0.0) (0.1.2)\n",
      "Requirement already satisfied: nbclient<0.6.0,>=0.5.0 in /home/seugaoms/anaconda3/envs/python36/lib/python3.6/site-packages (from nbconvert==6.0.0) (0.5.3)\n",
      "Requirement already satisfied: pandocfilters>=1.4.1 in /home/seugaoms/anaconda3/envs/python36/lib/python3.6/site-packages (from nbconvert==6.0.0) (1.4.2)\n",
      "Requirement already satisfied: jupyter-core in /home/seugaoms/anaconda3/envs/python36/lib/python3.6/site-packages (from nbconvert==6.0.0) (4.7.1)\n",
      "Requirement already satisfied: pygments>=2.4.1 in /home/seugaoms/anaconda3/envs/python36/lib/python3.6/site-packages (from nbconvert==6.0.0) (2.8.1)\n",
      "Requirement already satisfied: MarkupSafe>=2.0 in /home/seugaoms/anaconda3/envs/python36/lib/python3.6/site-packages (from jinja2>=2.4->nbconvert==6.0.0) (2.0.1)\n",
      "Requirement already satisfied: nest-asyncio in /home/seugaoms/anaconda3/envs/python36/lib/python3.6/site-packages (from nbclient<0.6.0,>=0.5.0->nbconvert==6.0.0) (1.5.1)\n",
      "Requirement already satisfied: async-generator in /home/seugaoms/anaconda3/envs/python36/lib/python3.6/site-packages (from nbclient<0.6.0,>=0.5.0->nbconvert==6.0.0) (1.10)\n",
      "Requirement already satisfied: jupyter-client>=6.1.5 in /home/seugaoms/anaconda3/envs/python36/lib/python3.6/site-packages (from nbclient<0.6.0,>=0.5.0->nbconvert==6.0.0) (6.1.12)\n",
      "Requirement already satisfied: ipython-genutils in /home/seugaoms/anaconda3/envs/python36/lib/python3.6/site-packages (from nbformat>=4.4->nbconvert==6.0.0) (0.2.0)\n",
      "Requirement already satisfied: jsonschema!=2.5.0,>=2.4 in /home/seugaoms/anaconda3/envs/python36/lib/python3.6/site-packages (from nbformat>=4.4->nbconvert==6.0.0) (3.2.0)\n",
      "Requirement already satisfied: decorator in /home/seugaoms/anaconda3/envs/python36/lib/python3.6/site-packages (from traitlets>=4.2->nbconvert==6.0.0) (4.4.2)\n",
      "Requirement already satisfied: six in /home/seugaoms/anaconda3/envs/python36/lib/python3.6/site-packages (from traitlets>=4.2->nbconvert==6.0.0) (1.15.0)\n",
      "Requirement already satisfied: webencodings in /home/seugaoms/anaconda3/envs/python36/lib/python3.6/site-packages (from bleach->nbconvert==6.0.0) (0.5.1)\n",
      "Requirement already satisfied: packaging in /home/seugaoms/anaconda3/envs/python36/lib/python3.6/site-packages (from bleach->nbconvert==6.0.0) (20.9)\n",
      "Requirement already satisfied: pyrsistent>=0.14.0 in /home/seugaoms/anaconda3/envs/python36/lib/python3.6/site-packages (from jsonschema!=2.5.0,>=2.4->nbformat>=4.4->nbconvert==6.0.0) (0.17.3)\n",
      "Requirement already satisfied: setuptools in /home/seugaoms/anaconda3/envs/python36/lib/python3.6/site-packages (from jsonschema!=2.5.0,>=2.4->nbformat>=4.4->nbconvert==6.0.0) (59.6.0)\n",
      "Requirement already satisfied: importlib-metadata in /home/seugaoms/anaconda3/envs/python36/lib/python3.6/site-packages (from jsonschema!=2.5.0,>=2.4->nbformat>=4.4->nbconvert==6.0.0) (3.10.1)\n",
      "Requirement already satisfied: attrs>=17.4.0 in /home/seugaoms/anaconda3/envs/python36/lib/python3.6/site-packages (from jsonschema!=2.5.0,>=2.4->nbformat>=4.4->nbconvert==6.0.0) (20.3.0)\n",
      "Requirement already satisfied: pyzmq>=13 in /home/seugaoms/anaconda3/envs/python36/lib/python3.6/site-packages (from jupyter-client>=6.1.5->nbclient<0.6.0,>=0.5.0->nbconvert==6.0.0) (22.0.3)\n",
      "Requirement already satisfied: tornado>=4.1 in /home/seugaoms/anaconda3/envs/python36/lib/python3.6/site-packages (from jupyter-client>=6.1.5->nbclient<0.6.0,>=0.5.0->nbconvert==6.0.0) (6.1)\n",
      "Requirement already satisfied: python-dateutil>=2.1 in /home/seugaoms/anaconda3/envs/python36/lib/python3.6/site-packages (from jupyter-client>=6.1.5->nbclient<0.6.0,>=0.5.0->nbconvert==6.0.0) (2.8.1)\n",
      "Requirement already satisfied: pyparsing>=2.0.2 in /home/seugaoms/anaconda3/envs/python36/lib/python3.6/site-packages (from packaging->bleach->nbconvert==6.0.0) (2.4.7)\n",
      "Requirement already satisfied: typing-extensions>=3.6.4 in /home/seugaoms/anaconda3/envs/python36/lib/python3.6/site-packages (from importlib-metadata->jsonschema!=2.5.0,>=2.4->nbformat>=4.4->nbconvert==6.0.0) (3.7.4.3)\n",
      "Requirement already satisfied: zipp>=0.5 in /home/seugaoms/anaconda3/envs/python36/lib/python3.6/site-packages (from importlib-metadata->jsonschema!=2.5.0,>=2.4->nbformat>=4.4->nbconvert==6.0.0) (3.4.1)\n",
      "Installing collected packages: nbconvert\n",
      "  Attempting uninstall: nbconvert\n",
      "    Found existing installation: nbconvert 6.0.7\n",
      "    Uninstalling nbconvert-6.0.7:\n",
      "      Successfully uninstalled nbconvert-6.0.7\n",
      "Successfully installed nbconvert-6.0.0\n"
     ]
    }
   ],
   "source": [
    "!pip install nbconvert==6.0.0"
   ]
  },
  {
   "cell_type": "markdown",
   "id": "545122d0-66f8-44d9-a088-96b78fded6db",
   "metadata": {
    "tags": []
   },
   "source": [
    "# tensorboard\n"
   ]
  },
  {
   "cell_type": "code",
   "execution_count": null,
   "id": "23a3595d-87e8-4d04-afb1-c7dc595683bd",
   "metadata": {},
   "outputs": [],
   "source": [
    "!tensorboard --logdir mylogdir"
   ]
  },
  {
   "cell_type": "code",
   "execution_count": null,
   "id": "87ec39b3-28d8-496d-9fb7-9b7734d31891",
   "metadata": {},
   "outputs": [],
   "source": [
    "# !tensorboard --helpfull"
   ]
  },
  {
   "cell_type": "code",
   "execution_count": null,
   "id": "5282ded9-a3de-49cd-be61-95b328ecbe90",
   "metadata": {},
   "outputs": [],
   "source": [
    "!tensorboard dev upload --logdir \\ 'mylogdir' -y"
   ]
  },
  {
   "cell_type": "code",
   "execution_count": 1,
   "id": "f6f16637-7275-4551-b178-221eadd6169a",
   "metadata": {},
   "outputs": [
    {
     "name": "stderr",
     "output_type": "stream",
     "text": [
      "UsageError: Line magic function `%tensorboard` not found.\n"
     ]
    }
   ],
   "source": [
    "%tensorboard --logdir logs"
   ]
  },
  {
   "cell_type": "code",
   "execution_count": null,
   "id": "4e1e0231-6cbc-4de2-8f41-3f078c4ff5e8",
   "metadata": {},
   "outputs": [],
   "source": []
  },
  {
   "cell_type": "markdown",
   "id": "d04f1e41-4c0c-4d7f-b279-0fc54ff4db04",
   "metadata": {
    "tags": []
   },
   "source": [
    "# jupyter 插件"
   ]
  },
  {
   "cell_type": "code",
   "execution_count": null,
   "id": "1689c19a-b2fb-464d-aff6-5a84e5348df4",
   "metadata": {},
   "outputs": [],
   "source": [
    "!jupyter labextension list"
   ]
  },
  {
   "cell_type": "code",
   "execution_count": null,
   "id": "dfac7679-6493-4902-a33f-88593d438a3e",
   "metadata": {},
   "outputs": [],
   "source": []
  },
  {
   "cell_type": "code",
   "execution_count": null,
   "id": "337fd553-5741-4fab-8803-bc25bf6a7b39",
   "metadata": {},
   "outputs": [],
   "source": []
  },
  {
   "cell_type": "code",
   "execution_count": null,
   "id": "9a1a39f5-016b-4e5c-aabd-11e91df7715d",
   "metadata": {},
   "outputs": [],
   "source": []
  },
  {
   "cell_type": "code",
   "execution_count": null,
   "id": "23dce0c8-fc39-42ca-bcae-3a61ddc74997",
   "metadata": {},
   "outputs": [],
   "source": []
  },
  {
   "cell_type": "code",
   "execution_count": null,
   "id": "3af563e6-ff41-47c0-905d-463cb2174d0f",
   "metadata": {},
   "outputs": [],
   "source": []
  },
  {
   "cell_type": "code",
   "execution_count": null,
   "id": "d33eacf4-3f11-4ba1-b9f7-7bc503071d7e",
   "metadata": {},
   "outputs": [],
   "source": []
  },
  {
   "cell_type": "code",
   "execution_count": null,
   "id": "73c413d6-3bc5-4312-9eb5-8f2f39312ad9",
   "metadata": {},
   "outputs": [],
   "source": []
  },
  {
   "cell_type": "code",
   "execution_count": null,
   "id": "bdf9172f-ad18-415b-97aa-c78f8ebe7732",
   "metadata": {},
   "outputs": [],
   "source": []
  }
 ],
 "metadata": {
  "kernelspec": {
   "display_name": "Python 3",
   "language": "python",
   "name": "python3"
  },
  "language_info": {
   "codemirror_mode": {
    "name": "ipython",
    "version": 3
   },
   "file_extension": ".py",
   "mimetype": "text/x-python",
   "name": "python",
   "nbconvert_exporter": "python",
   "pygments_lexer": "ipython3",
   "version": "3.6.13"
  }
 },
 "nbformat": 4,
 "nbformat_minor": 5
}
