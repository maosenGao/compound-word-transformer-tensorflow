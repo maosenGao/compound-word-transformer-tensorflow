{
 "cells": [
  {
   "cell_type": "markdown",
   "id": "33143dbe-937b-4d02-abae-2b58d8c4b9b2",
   "metadata": {},
   "source": [
    "# 删除多余的kernel"
   ]
  },
  {
   "cell_type": "code",
   "execution_count": null,
   "id": "ec87ad90-32f9-4fb3-b479-a318376b0bcd",
   "metadata": {},
   "outputs": [],
   "source": [
    "!conda activate base # 在 base 环境下进行\n",
    "!jupyter kernelspec list\n",
    "# !jupyter kernelspec remove kernel_name # 可以连写多个"
   ]
  },
  {
   "cell_type": "code",
   "execution_count": null,
   "id": "0868dca3-22df-4d79-805e-f7b8406d8b45",
   "metadata": {},
   "outputs": [],
   "source": [
    "# !jupyter kernelspec remove pycharm-a247837a xpython -y# 可以连写多个"
   ]
  },
  {
   "cell_type": "code",
   "execution_count": null,
   "id": "340ada8e-0c1f-49d7-9100-99094f606aaf",
   "metadata": {},
   "outputs": [],
   "source": []
  },
  {
   "cell_type": "markdown",
   "id": "545122d0-66f8-44d9-a088-96b78fded6db",
   "metadata": {
    "tags": []
   },
   "source": [
    "# tensorboard\n"
   ]
  },
  {
   "cell_type": "code",
   "execution_count": null,
   "id": "23a3595d-87e8-4d04-afb1-c7dc595683bd",
   "metadata": {},
   "outputs": [],
   "source": [
    "!tensorboard --logdir mylogdir"
   ]
  },
  {
   "cell_type": "code",
   "execution_count": null,
   "id": "87ec39b3-28d8-496d-9fb7-9b7734d31891",
   "metadata": {},
   "outputs": [],
   "source": [
    "# !tensorboard --helpfull"
   ]
  },
  {
   "cell_type": "code",
   "execution_count": null,
   "id": "5282ded9-a3de-49cd-be61-95b328ecbe90",
   "metadata": {},
   "outputs": [],
   "source": [
    "!tensorboard dev upload --logdir \\ 'mylogdir' -y"
   ]
  },
  {
   "cell_type": "code",
   "execution_count": 1,
   "id": "f6f16637-7275-4551-b178-221eadd6169a",
   "metadata": {},
   "outputs": [
    {
     "name": "stderr",
     "output_type": "stream",
     "text": [
      "UsageError: Line magic function `%tensorboard` not found.\n"
     ]
    }
   ],
   "source": [
    "%tensorboard --logdir logs"
   ]
  },
  {
   "cell_type": "code",
   "execution_count": null,
   "id": "4e1e0231-6cbc-4de2-8f41-3f078c4ff5e8",
   "metadata": {},
   "outputs": [],
   "source": []
  },
  {
   "cell_type": "markdown",
   "id": "d04f1e41-4c0c-4d7f-b279-0fc54ff4db04",
   "metadata": {
    "tags": []
   },
   "source": [
    "# jupyter 插件"
   ]
  },
  {
   "cell_type": "code",
   "execution_count": null,
   "id": "1689c19a-b2fb-464d-aff6-5a84e5348df4",
   "metadata": {},
   "outputs": [],
   "source": [
    "!jupyter labextension list"
   ]
  },
  {
   "cell_type": "code",
   "execution_count": null,
   "id": "dfac7679-6493-4902-a33f-88593d438a3e",
   "metadata": {},
   "outputs": [],
   "source": []
  },
  {
   "cell_type": "code",
   "execution_count": null,
   "id": "337fd553-5741-4fab-8803-bc25bf6a7b39",
   "metadata": {},
   "outputs": [],
   "source": []
  },
  {
   "cell_type": "code",
   "execution_count": null,
   "id": "9a1a39f5-016b-4e5c-aabd-11e91df7715d",
   "metadata": {},
   "outputs": [],
   "source": []
  },
  {
   "cell_type": "code",
   "execution_count": null,
   "id": "23dce0c8-fc39-42ca-bcae-3a61ddc74997",
   "metadata": {},
   "outputs": [],
   "source": []
  },
  {
   "cell_type": "code",
   "execution_count": null,
   "id": "3af563e6-ff41-47c0-905d-463cb2174d0f",
   "metadata": {},
   "outputs": [],
   "source": []
  },
  {
   "cell_type": "code",
   "execution_count": null,
   "id": "d33eacf4-3f11-4ba1-b9f7-7bc503071d7e",
   "metadata": {},
   "outputs": [],
   "source": []
  },
  {
   "cell_type": "code",
   "execution_count": null,
   "id": "73c413d6-3bc5-4312-9eb5-8f2f39312ad9",
   "metadata": {},
   "outputs": [],
   "source": []
  },
  {
   "cell_type": "code",
   "execution_count": null,
   "id": "bdf9172f-ad18-415b-97aa-c78f8ebe7732",
   "metadata": {},
   "outputs": [],
   "source": []
  }
 ],
 "metadata": {
  "kernelspec": {
   "display_name": "Python 3",
   "language": "python",
   "name": "python3"
  },
  "language_info": {
   "codemirror_mode": {
    "name": "ipython",
    "version": 3
   },
   "file_extension": ".py",
   "mimetype": "text/x-python",
   "name": "python",
   "nbconvert_exporter": "python",
   "pygments_lexer": "ipython3",
   "version": "3.6.13"
  }
 },
 "nbformat": 4,
 "nbformat_minor": 5
}
