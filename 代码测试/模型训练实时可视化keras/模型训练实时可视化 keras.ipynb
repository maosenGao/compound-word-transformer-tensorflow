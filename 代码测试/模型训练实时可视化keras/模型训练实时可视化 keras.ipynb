{
 "cells": [
  {
   "cell_type": "code",
   "execution_count": 1,
   "id": "c61d2645-e32b-4110-a98b-0e969832fbfb",
   "metadata": {},
   "outputs": [],
   "source": [
    "# 导入模块\n",
    "import numpy as np\n",
    "import keras as K\n",
    "import tensorflow as tf\n",
    "import pandas as pd\n",
    "from sklearn.model_selection import train_test_split\n",
    "from sklearn.preprocessing import LabelBinarizer\n",
    "from keras import callbacks"
   ]
  },
  {
   "cell_type": "code",
   "execution_count": 2,
   "id": "cdd382a3-85a4-4f54-8949-f3fc16349faa",
   "metadata": {},
   "outputs": [],
   "source": [
    "# 读取CSV数据集，并拆分为训练集和测试集\n",
    "# 该函数的传入参数为CSV_FILE_PATH: csv文件路径\n",
    "def load_data(CSV_FILE_PATH):\n",
    "    IRIS = pd.read_csv(CSV_FILE_PATH)\n",
    "    target_var = 'class'  # 目标变量\n",
    "    # 数据集的特征\n",
    "    features = list(IRIS.columns)\n",
    "    features.remove(target_var)\n",
    "    # 目标变量的类别\n",
    "    Class = IRIS[target_var].unique()\n",
    "    # 目标变量的类别字典\n",
    "    Class_dict = dict(zip(Class, range(len(Class))))\n",
    "    # 增加一列target, 将目标变量进行编码\n",
    "    IRIS['target'] = IRIS[target_var].apply(lambda x: Class_dict[x])\n",
    "    # 对目标变量进行0-1编码(One-hot Encoding)\n",
    "    lb = LabelBinarizer()\n",
    "    lb.fit(list(Class_dict.values()))\n",
    "    transformed_labels = lb.transform(IRIS['target'])\n",
    "    y_bin_labels = []  # 对多分类进行0-1编码的变量\n",
    "    for i in range(transformed_labels.shape[1]):\n",
    "        y_bin_labels.append('y' + str(i))\n",
    "        IRIS['y' + str(i)] = transformed_labels[:, i]\n",
    "    # 将数据集分为训练集和测试集\n",
    "    train_x, test_x, train_y, test_y = train_test_split(IRIS[features], IRIS[y_bin_labels], \\\n",
    "                                                        train_size=0.7, test_size=0.3, random_state=0)\n",
    "    return train_x, test_x, train_y, test_y, Class_dict"
   ]
  },
  {
   "cell_type": "code",
   "execution_count": 3,
   "id": "c799e45b-fc97-4b8d-b118-fa0efc70a30a",
   "metadata": {},
   "outputs": [
    {
     "name": "stdout",
     "output_type": "stream",
     "text": [
      "\n",
      "Iris dataset using Keras\n"
     ]
    }
   ],
   "source": [
    "# 0. 开始\n",
    "print(\"\\nIris dataset using Keras\")\n",
    "np.random.seed(4)\n",
    "tf.random.set_seed(13)"
   ]
  },
  {
   "cell_type": "code",
   "execution_count": 17,
   "id": "49c276fd-8e47-4800-ae3c-84218d081bf3",
   "metadata": {},
   "outputs": [
    {
     "data": {
      "text/plain": [
       "'/home/seugaoms/Documents/compound-word-transformer-tensorflow/代码测试'"
      ]
     },
     "execution_count": 17,
     "metadata": {},
     "output_type": "execute_result"
    }
   ],
   "source": [
    "import os\n",
    "os.path.abspath('')\n",
    "# os.path.abspath('.')"
   ]
  },
  {
   "cell_type": "code",
   "execution_count": 18,
   "id": "90c6b58f-92b0-49e9-bdd0-6ee564c70c4b",
   "metadata": {},
   "outputs": [
    {
     "name": "stdout",
     "output_type": "stream",
     "text": [
      "Loading Iris data into memory\n"
     ]
    },
    {
     "ename": "ValueError",
     "evalue": "list.remove(x): x not in list",
     "output_type": "error",
     "traceback": [
      "\u001b[0;31m---------------------------------------------------------------------------\u001b[0m",
      "\u001b[0;31mValueError\u001b[0m                                Traceback (most recent call last)",
      "\u001b[0;32m<ipython-input-18-8044b29ba9ec>\u001b[0m in \u001b[0;36m<module>\u001b[0;34m\u001b[0m\n\u001b[1;32m      2\u001b[0m \u001b[0mprint\u001b[0m\u001b[0;34m(\u001b[0m\u001b[0;34m\"Loading Iris data into memory\"\u001b[0m\u001b[0;34m)\u001b[0m\u001b[0;34m\u001b[0m\u001b[0;34m\u001b[0m\u001b[0m\n\u001b[1;32m      3\u001b[0m \u001b[0mCSV_FILE_PATH\u001b[0m \u001b[0;34m=\u001b[0m \u001b[0;34m\"./模型训练实时可视化keras/iris.csv\"\u001b[0m\u001b[0;34m\u001b[0m\u001b[0;34m\u001b[0m\u001b[0m\n\u001b[0;32m----> 4\u001b[0;31m \u001b[0mtrain_x\u001b[0m\u001b[0;34m,\u001b[0m \u001b[0mtest_x\u001b[0m\u001b[0;34m,\u001b[0m \u001b[0mtrain_y\u001b[0m\u001b[0;34m,\u001b[0m \u001b[0mtest_y\u001b[0m\u001b[0;34m,\u001b[0m \u001b[0mClass_dict\u001b[0m \u001b[0;34m=\u001b[0m \u001b[0mload_data\u001b[0m\u001b[0;34m(\u001b[0m\u001b[0mCSV_FILE_PATH\u001b[0m\u001b[0;34m)\u001b[0m\u001b[0;34m\u001b[0m\u001b[0;34m\u001b[0m\u001b[0m\n\u001b[0m",
      "\u001b[0;32m<ipython-input-2-210406c63159>\u001b[0m in \u001b[0;36mload_data\u001b[0;34m(CSV_FILE_PATH)\u001b[0m\n\u001b[1;32m      6\u001b[0m     \u001b[0;31m# 数据集的特征\u001b[0m\u001b[0;34m\u001b[0m\u001b[0;34m\u001b[0m\u001b[0;34m\u001b[0m\u001b[0m\n\u001b[1;32m      7\u001b[0m     \u001b[0mfeatures\u001b[0m \u001b[0;34m=\u001b[0m \u001b[0mlist\u001b[0m\u001b[0;34m(\u001b[0m\u001b[0mIRIS\u001b[0m\u001b[0;34m.\u001b[0m\u001b[0mcolumns\u001b[0m\u001b[0;34m)\u001b[0m\u001b[0;34m\u001b[0m\u001b[0;34m\u001b[0m\u001b[0m\n\u001b[0;32m----> 8\u001b[0;31m     \u001b[0mfeatures\u001b[0m\u001b[0;34m.\u001b[0m\u001b[0mremove\u001b[0m\u001b[0;34m(\u001b[0m\u001b[0mtarget_var\u001b[0m\u001b[0;34m)\u001b[0m\u001b[0;34m\u001b[0m\u001b[0;34m\u001b[0m\u001b[0m\n\u001b[0m\u001b[1;32m      9\u001b[0m     \u001b[0;31m# 目标变量的类别\u001b[0m\u001b[0;34m\u001b[0m\u001b[0;34m\u001b[0m\u001b[0;34m\u001b[0m\u001b[0m\n\u001b[1;32m     10\u001b[0m     \u001b[0mClass\u001b[0m \u001b[0;34m=\u001b[0m \u001b[0mIRIS\u001b[0m\u001b[0;34m[\u001b[0m\u001b[0mtarget_var\u001b[0m\u001b[0;34m]\u001b[0m\u001b[0;34m.\u001b[0m\u001b[0munique\u001b[0m\u001b[0;34m(\u001b[0m\u001b[0;34m)\u001b[0m\u001b[0;34m\u001b[0m\u001b[0;34m\u001b[0m\u001b[0m\n",
      "\u001b[0;31mValueError\u001b[0m: list.remove(x): x not in list"
     ]
    }
   ],
   "source": [
    "# 1. 读取CSV数据集\n",
    "print(\"Loading Iris data into memory\")\n",
    "CSV_FILE_PATH = \"./模型训练实时可视化keras/iris.csv\"\n",
    "train_x, test_x, train_y, test_y, Class_dict = load_data(CSV_FILE_PATH)"
   ]
  },
  {
   "cell_type": "code",
   "execution_count": null,
   "id": "cd529381-a6e0-4c72-a5c1-ba673e57c2f0",
   "metadata": {},
   "outputs": [],
   "source": [
    "# 2. 定义模型\n",
    "\n",
    "init = K.initializers.glorot_uniform(seed=1)\n",
    "simple_adam = K.optimizers.Adam()\n",
    "model = K.models.Sequential()\n",
    "model.add(K.layers.Dense(units=5, input_dim=4, kernel_initializer=init, activation='relu'))\n",
    "model.add(K.layers.Dense(units=6, kernel_initializer=init, activation='relu'))\n",
    "model.add(K.layers.Dense(units=3, kernel_initializer=init, activation='softmax'))\n",
    "model.compile(loss='categorical_crossentropy', optimizer=simple_adam, metrics=['accuracy'])"
   ]
  },
  {
   "cell_type": "code",
   "execution_count": null,
   "id": "a89ecdbd-e04d-4b81-83d9-1c7b30da60c8",
   "metadata": {},
   "outputs": [],
   "source": [
    "# 3. 训练模型\n",
    "\n",
    "b_size = 1\n",
    "max_epochs = 100\n",
    "print(\"Starting training \")\n",
    "remote = callbacks.RemoteMonitor(root='http://localhost:9000')\n",
    "h = model.fit(train_x, train_y, validation_data=(test_x, test_y), batch_size=b_size, epochs=max_epochs,\n",
    "              shuffle=True, verbose=1, callbacks=[remote])\n",
    "print(\"Training finished \\n\")"
   ]
  },
  {
   "cell_type": "code",
   "execution_count": null,
   "id": "87b6c4ce-9e91-40e7-863e-87a4cc478d10",
   "metadata": {},
   "outputs": [],
   "source": [
    "# 4. 评估模型\n",
    "\n",
    "eval = model.evaluate(test_x, test_y, verbose=0)\n",
    "print(\"Evaluation on test data: loss = %0.6f accuracy = %0.2f%% \\n\" \\\n",
    "      % (eval[0], eval[1] * 100) )"
   ]
  },
  {
   "cell_type": "code",
   "execution_count": null,
   "id": "8d50d968-6179-4dcd-8a3f-d16078efd8b5",
   "metadata": {},
   "outputs": [],
   "source": [
    "# 5. 使用模型进行预测\n",
    "np.set_printoptions(precision=4)\n",
    "unknown = np.array([[6.1, 3.1, 5.1, 1.1]], dtype=np.float32)\n",
    "predicted = model.predict(unknown)\n",
    "print(\"Using model to predict species for features: \")\n",
    "print(unknown)\n",
    "print(\"\\nPredicted softmax vector is: \")\n",
    "print(predicted)\n",
    "species_dict = {v:k for k,v in Class_dict.items()}\n",
    "print(\"\\nPredicted species is: \")\n",
    "print(species_dict[np.argmax(predicted)])"
   ]
  },
  {
   "cell_type": "code",
   "execution_count": null,
   "id": "baa0d01f-5792-4218-b5ae-5d060e0b64b1",
   "metadata": {},
   "outputs": [],
   "source": []
  }
 ],
 "metadata": {
  "kernelspec": {
   "display_name": "Python 3",
   "language": "python",
   "name": "python3"
  },
  "language_info": {
   "codemirror_mode": {
    "name": "ipython",
    "version": 3
   },
   "file_extension": ".py",
   "mimetype": "text/x-python",
   "name": "python",
   "nbconvert_exporter": "python",
   "pygments_lexer": "ipython3",
   "version": "3.6.13"
  }
 },
 "nbformat": 4,
 "nbformat_minor": 5
}
