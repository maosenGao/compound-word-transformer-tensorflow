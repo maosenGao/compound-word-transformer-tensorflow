{
 "cells": [
  {
   "cell_type": "code",
   "execution_count": 1,
   "id": "2a2cf218-7b4b-412f-8a94-4d264627f8c9",
   "metadata": {},
   "outputs": [
    {
     "name": "stdout",
     "output_type": "stream",
     "text": [
      "Downloading data from https://storage.googleapis.com/tensorflow/tf-keras-datasets/mnist.npz\n",
      "11493376/11490434 [==============================] - 4s 0us/step\n",
      "11501568/11490434 [==============================] - 4s 0us/step\n"
     ]
    }
   ],
   "source": [
    "\n",
    "import tensorflow as tf\n",
    "\n",
    "# Load and normalize MNIST data\n",
    "\n",
    "mnist_data = tf.keras.datasets.mnist\n",
    "(X_train, y_train), (X_test, y_test) = mnist_data.load_data()\n",
    "X_train, X_test = X_train / 255.0, X_test / 255.0\n",
    "\n",
    "# Define the model\n",
    "\n",
    "model = tf.keras.models.Sequential([\n",
    "tf.keras.layers.Flatten(input_shape=(28, 28)),\n",
    "tf.keras.layers.Dense(128, activation='relu'),\n",
    "tf.keras.layers.Dropout(0.2),\n",
    "tf.keras.layers.Dense(10, activation='softmax')\n",
    "])\n",
    "\n",
    "# Compile the model\n",
    "\n",
    "model.compile(\n",
    "optimizer='adam',\n",
    "loss='sparse_categorical_crossentropy',\n",
    "metrics=['accuracy']\n",
    ")"
   ]
  },
  {
   "cell_type": "markdown",
   "id": "47d6a7fb-b0bc-4848-a791-3f5996f1a01f",
   "metadata": {},
   "source": [
    "# 核心代码"
   ]
  },
  {
   "cell_type": "code",
   "execution_count": 2,
   "id": "bb34a376-87f6-448b-bc85-9c76b10384d0",
   "metadata": {},
   "outputs": [],
   "source": [
    "tf_callback = tf.keras.callbacks.TensorBoard(log_dir=\"./logs\")"
   ]
  },
  {
   "cell_type": "code",
   "execution_count": 3,
   "id": "67abddaf-2e05-4840-aa5f-2908f651ad32",
   "metadata": {},
   "outputs": [
    {
     "name": "stdout",
     "output_type": "stream",
     "text": [
      "Epoch 1/5\n",
      "1875/1875 [==============================] - 6s 3ms/step - loss: 0.2985 - accuracy: 0.9130\n",
      "Epoch 2/5\n",
      "1875/1875 [==============================] - 6s 3ms/step - loss: 0.1444 - accuracy: 0.9569\n",
      "Epoch 3/5\n",
      "1875/1875 [==============================] - 5s 3ms/step - loss: 0.1088 - accuracy: 0.9675\n",
      "Epoch 4/5\n",
      "1875/1875 [==============================] - 5s 3ms/step - loss: 0.0887 - accuracy: 0.9724\n",
      "Epoch 5/5\n",
      "1875/1875 [==============================] - 5s 3ms/step - loss: 0.0749 - accuracy: 0.9770\n"
     ]
    },
    {
     "data": {
      "text/plain": [
       "<keras.callbacks.History at 0x7f83180807f0>"
      ]
     },
     "execution_count": 3,
     "metadata": {},
     "output_type": "execute_result"
    }
   ],
   "source": [
    "model.fit(X_train, y_train, epochs=5, callbacks=[tf_callback])"
   ]
  },
  {
   "cell_type": "code",
   "execution_count": 4,
   "id": "addd328c-b031-43f2-8bba-b74b69ac43e0",
   "metadata": {},
   "outputs": [],
   "source": []
  },
  {
   "cell_type": "code",
   "execution_count": null,
   "id": "0472020f-6050-4186-8d5d-865abea6dc32",
   "metadata": {},
   "outputs": [
    {
     "name": "stdout",
     "output_type": "stream",
     "text": [
      "2022-10-07 10:36:53.351492: E tensorflow/stream_executor/cuda/cuda_driver.cc:271] failed call to cuInit: CUDA_ERROR_UNKNOWN: unknown error\n",
      "2022-10-07 10:36:53.351531: I tensorflow/stream_executor/cuda/cuda_diagnostics.cc:156] kernel driver does not appear to be running on this host (seugaoms-Precision-7920-Tower): /proc/driver/nvidia/version does not exist\n",
      "\n",
      "NOTE: Using experimental fast data loading logic. To disable, pass\n",
      "    \"--load_fast=false\" and report issues on GitHub. More details:\n",
      "    https://github.com/tensorflow/tensorboard/issues/4784\n",
      "\n",
      "Serving TensorBoard on localhost; to expose to the network, use a proxy or pass --bind_all\n",
      "TensorBoard 2.6.0 at http://localhost:6007/ (Press CTRL+C to quit)\n",
      "E1007 10:37:21.835063 140676637218560 application.py:445] Plugin listing: is_active() for fairness_indicators failed (marking inactive)\n",
      "Traceback (most recent call last):\n",
      "  File \"/home/seugaoms/anaconda3/envs/python36/lib/python3.6/site-packages/tensorboard/backend/application.py\", line 433, in _serve_plugins_listing\n",
      "    is_active = plugin.is_active()\n",
      "  File \"/home/seugaoms/anaconda3/envs/python36/lib/python3.6/site-packages/tensorboard_plugin_fairness_indicators/plugin.py\", line 92, in is_active\n",
      "    self._multiplexer.PluginRunToTagToContent(\n",
      "AttributeError: 'NoneType' object has no attribute 'PluginRunToTagToContent'\n",
      "E1007 10:53:26.131550 140676016633600 application.py:445] Plugin listing: is_active() for fairness_indicators failed (marking inactive)\n",
      "Traceback (most recent call last):\n",
      "  File \"/home/seugaoms/anaconda3/envs/python36/lib/python3.6/site-packages/tensorboard/backend/application.py\", line 433, in _serve_plugins_listing\n",
      "    is_active = plugin.is_active()\n",
      "  File \"/home/seugaoms/anaconda3/envs/python36/lib/python3.6/site-packages/tensorboard_plugin_fairness_indicators/plugin.py\", line 92, in is_active\n",
      "    self._multiplexer.PluginRunToTagToContent(\n",
      "AttributeError: 'NoneType' object has no attribute 'PluginRunToTagToContent'\n",
      "E1007 10:53:26.744488 140676016633600 application.py:445] Plugin listing: is_active() for fairness_indicators failed (marking inactive)\n",
      "Traceback (most recent call last):\n",
      "  File \"/home/seugaoms/anaconda3/envs/python36/lib/python3.6/site-packages/tensorboard/backend/application.py\", line 433, in _serve_plugins_listing\n",
      "    is_active = plugin.is_active()\n",
      "  File \"/home/seugaoms/anaconda3/envs/python36/lib/python3.6/site-packages/tensorboard_plugin_fairness_indicators/plugin.py\", line 92, in is_active\n",
      "    self._multiplexer.PluginRunToTagToContent(\n",
      "AttributeError: 'NoneType' object has no attribute 'PluginRunToTagToContent'\n"
     ]
    }
   ],
   "source": [
    "!tensorboard --logdir logs"
   ]
  },
  {
   "cell_type": "code",
   "execution_count": 1,
   "id": "6d27b276-b558-4ed6-a440-2ff2b7fea765",
   "metadata": {},
   "outputs": [
    {
     "name": "stdout",
     "output_type": "stream",
     "text": [
      "Collecting keras-vis\n",
      "  Downloading keras_vis-0.4.1-py2.py3-none-any.whl (30 kB)\n",
      "Requirement already satisfied: h5py in /home/seugaoms/anaconda3/envs/python36/lib/python3.6/site-packages (from keras-vis) (3.1.0)\n",
      "Requirement already satisfied: matplotlib in /home/seugaoms/anaconda3/envs/python36/lib/python3.6/site-packages (from keras-vis) (3.3.4)\n",
      "Requirement already satisfied: six in /home/seugaoms/anaconda3/envs/python36/lib/python3.6/site-packages (from keras-vis) (1.15.0)\n",
      "Requirement already satisfied: scikit-image in /home/seugaoms/anaconda3/envs/python36/lib/python3.6/site-packages (from keras-vis) (0.17.2)\n",
      "Requirement already satisfied: keras in /home/seugaoms/anaconda3/envs/python36/lib/python3.6/site-packages (from keras-vis) (2.6.0)\n",
      "Requirement already satisfied: numpy>=1.12 in /home/seugaoms/anaconda3/envs/python36/lib/python3.6/site-packages (from h5py->keras-vis) (1.19.5)\n",
      "Requirement already satisfied: cached-property in /home/seugaoms/anaconda3/envs/python36/lib/python3.6/site-packages (from h5py->keras-vis) (1.5.2)\n",
      "Requirement already satisfied: python-dateutil>=2.1 in /home/seugaoms/anaconda3/envs/python36/lib/python3.6/site-packages (from matplotlib->keras-vis) (2.8.1)\n",
      "Requirement already satisfied: cycler>=0.10 in /home/seugaoms/anaconda3/envs/python36/lib/python3.6/site-packages (from matplotlib->keras-vis) (0.10.0)\n",
      "Requirement already satisfied: kiwisolver>=1.0.1 in /home/seugaoms/anaconda3/envs/python36/lib/python3.6/site-packages (from matplotlib->keras-vis) (1.3.1)\n",
      "Requirement already satisfied: pyparsing!=2.0.4,!=2.1.2,!=2.1.6,>=2.0.3 in /home/seugaoms/anaconda3/envs/python36/lib/python3.6/site-packages (from matplotlib->keras-vis) (2.4.7)\n",
      "Requirement already satisfied: pillow>=6.2.0 in /home/seugaoms/anaconda3/envs/python36/lib/python3.6/site-packages (from matplotlib->keras-vis) (7.2.0)\n",
      "Requirement already satisfied: imageio>=2.3.0 in /home/seugaoms/anaconda3/envs/python36/lib/python3.6/site-packages (from scikit-image->keras-vis) (2.9.0)\n",
      "Requirement already satisfied: scipy>=1.0.1 in /home/seugaoms/anaconda3/envs/python36/lib/python3.6/site-packages (from scikit-image->keras-vis) (1.5.4)\n",
      "Requirement already satisfied: tifffile>=2019.7.26 in /home/seugaoms/anaconda3/envs/python36/lib/python3.6/site-packages (from scikit-image->keras-vis) (2020.9.3)\n",
      "Requirement already satisfied: networkx>=2.0 in /home/seugaoms/anaconda3/envs/python36/lib/python3.6/site-packages (from scikit-image->keras-vis) (2.5.1)\n",
      "Requirement already satisfied: PyWavelets>=1.1.1 in /home/seugaoms/anaconda3/envs/python36/lib/python3.6/site-packages (from scikit-image->keras-vis) (1.1.1)\n",
      "Requirement already satisfied: decorator<5,>=4.3 in /home/seugaoms/anaconda3/envs/python36/lib/python3.6/site-packages (from networkx>=2.0->scikit-image->keras-vis) (4.4.2)\n",
      "Installing collected packages: keras-vis\n",
      "Successfully installed keras-vis-0.4.1\n"
     ]
    }
   ],
   "source": [
    " !pip install keras-vis"
   ]
  },
  {
   "cell_type": "code",
   "execution_count": null,
   "id": "256eb861-cd28-4f5d-bf9c-b24572360007",
   "metadata": {},
   "outputs": [],
   "source": []
  }
 ],
 "metadata": {
  "kernelspec": {
   "display_name": "Python 3",
   "language": "python",
   "name": "python3"
  },
  "language_info": {
   "codemirror_mode": {
    "name": "ipython",
    "version": 3
   },
   "file_extension": ".py",
   "mimetype": "text/x-python",
   "name": "python",
   "nbconvert_exporter": "python",
   "pygments_lexer": "ipython3",
   "version": "3.6.13"
  }
 },
 "nbformat": 4,
 "nbformat_minor": 5
}
