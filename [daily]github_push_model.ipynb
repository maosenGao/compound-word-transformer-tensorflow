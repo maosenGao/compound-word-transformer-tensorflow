{
 "cells": [
  {
   "cell_type": "code",
   "execution_count": 1,
   "id": "2a52ac9a-2d92-4ef4-b7c2-8de95528e2ff",
   "metadata": {},
   "outputs": [],
   "source": [
    "# # 运行一下命令缓存\n",
    "# !git config --global credential.helper wincred\n",
    "# # 清除掉缓存在git中的用户名和密码\n",
    "# !git credential-manager uninstall"
   ]
  },
  {
   "cell_type": "code",
   "execution_count": 2,
   "id": "475e63d3-d3e7-453e-b08a-bae6847b1753",
   "metadata": {},
   "outputs": [
    {
     "name": "stdout",
     "output_type": "stream",
     "text": [
      "Reinitialized existing Git repository in /home/seugaoms/Documents/compound-word-transformer-tensorflow/.git/\n"
     ]
    }
   ],
   "source": [
    "!git init"
   ]
  },
  {
   "cell_type": "code",
   "execution_count": 3,
   "id": "4245cb38-61e8-4171-8abd-14c6ff247b30",
   "metadata": {},
   "outputs": [],
   "source": [
    "# 更新"
   ]
  },
  {
   "cell_type": "code",
   "execution_count": 4,
   "id": "a1bfa173-8e9f-4556-8c15-01c9cf9f3755",
   "metadata": {},
   "outputs": [
    {
     "name": "stdout",
     "output_type": "stream",
     "text": [
      "On branch master\n",
      "Your branch is up to date with 'origin/master'.\n",
      "\n",
      "Changes not staged for commit:\n",
      "  (use \"git add <file>...\" to update what will be committed)\n",
      "  (use \"git checkout -- <file>...\" to discard changes in working directory)\n",
      "\n",
      "\t\u001b[31mmodified:   .ipynb_checkpoints/demo-checkpoint.ipynb\u001b[m\n",
      "\t\u001b[31mmodified:   Model.py\u001b[m\n",
      "\t\u001b[31mmodified:   [daily]github_push_model.ipynb\u001b[m\n",
      "\t\u001b[31mmodified:   demo.ipynb\u001b[m\n",
      "\t\u001b[31mmodified:   linear_transformer_xl.png\u001b[m\n",
      "\t\u001b[31mmodified:   \"\\344\\273\\243\\347\\240\\201\\346\\265\\213\\350\\257\\225/tensorboard/.ipynb_checkpoints/tensorboard_minist-checkpoint.ipynb\"\u001b[m\n",
      "\t\u001b[31mmodified:   \"\\344\\273\\243\\347\\240\\201\\346\\265\\213\\350\\257\\225/tensorboard/tensorboard_minist.ipynb\"\u001b[m\n",
      "\n",
      "no changes added to commit (use \"git add\" and/or \"git commit -a\")\n"
     ]
    }
   ],
   "source": [
    "!git status"
   ]
  },
  {
   "cell_type": "code",
   "execution_count": 5,
   "id": "bc50df49-e8ac-4a69-868b-34dcca2e2403",
   "metadata": {},
   "outputs": [],
   "source": [
    "!git add ."
   ]
  },
  {
   "cell_type": "code",
   "execution_count": 6,
   "id": "07732cca-662f-4593-a5e7-526b1134705d",
   "metadata": {},
   "outputs": [
    {
     "name": "stdout",
     "output_type": "stream",
     "text": [
      "[master f0bc995] bcmi\n",
      " 7 files changed, 554 insertions(+), 53 deletions(-)\n",
      " rewrite linear_transformer_xl.png (99%)\n"
     ]
    }
   ],
   "source": [
    "# 提交到本地库并备注，此时变更仍在本地\n",
    "!git commit -am 'bcmi'"
   ]
  },
  {
   "cell_type": "code",
   "execution_count": 7,
   "id": "04101517-899b-4474-a7be-84e10500f90e",
   "metadata": {},
   "outputs": [
    {
     "name": "stdout",
     "output_type": "stream",
     "text": [
      "Counting objects: 11, done.\n",
      "Delta compression using up to 48 threads.\n",
      "Compressing objects: 100% (11/11), done.\n",
      "Writing objects: 100% (11/11), 56.39 KiB | 2.97 MiB/s, done.\n",
      "Total 11 (delta 4), reused 0 (delta 0)\n",
      "remote: Resolving deltas: 100% (4/4), completed with 4 local objects.\u001b[K\n",
      "To github.com:maosenGao/compound-word-transformer-tensorflow.git\n",
      "   a1ccbd5..f0bc995  master -> master\n"
     ]
    }
   ],
   "source": [
    "!git push origin"
   ]
  }
 ],
 "metadata": {
  "kernelspec": {
   "display_name": "Python 3",
   "language": "python",
   "name": "python3"
  },
  "language_info": {
   "codemirror_mode": {
    "name": "ipython",
    "version": 3
   },
   "file_extension": ".py",
   "mimetype": "text/x-python",
   "name": "python",
   "nbconvert_exporter": "python",
   "pygments_lexer": "ipython3",
   "version": "3.6.13"
  }
 },
 "nbformat": 4,
 "nbformat_minor": 5
}
