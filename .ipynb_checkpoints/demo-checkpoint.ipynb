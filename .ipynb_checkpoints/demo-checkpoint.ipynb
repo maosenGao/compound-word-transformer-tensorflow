{
 "cells": [
  {
   "cell_type": "markdown",
   "metadata": {},
   "source": [
    "![](https://chendongze.oss-cn-shanghai.aliyuncs.com/ipic/ihkvn.png)\n",
    "# 下载处理后的数据库数据库"
   ]
  },
  {
   "cell_type": "code",
   "execution_count": 1,
   "metadata": {},
   "outputs": [],
   "source": [
    "# !gdown --id 18x-aCvxJpOrWJoZ5VAuIe-xzNJHH9lqH"
   ]
  },
  {
   "cell_type": "code",
   "execution_count": 2,
   "metadata": {},
   "outputs": [],
   "source": [
    "# 从用 base 环境\n"
   ]
  },
  {
   "cell_type": "code",
   "execution_count": 3,
   "metadata": {},
   "outputs": [],
   "source": [
    "# !unzip pop17.zip -d pop17-dataset"
   ]
  },
  {
   "cell_type": "code",
   "execution_count": 4,
   "metadata": {},
   "outputs": [],
   "source": [
    "# !pip install miditok miditoolkit tqdm"
   ]
  },
  {
   "cell_type": "code",
   "execution_count": 5,
   "metadata": {},
   "outputs": [],
   "source": [
    "from Model import *\n",
    "from utils import batch\n",
    "import math\n",
    "import random\n",
    "from dataset import CP_Word_Dataset"
   ]
  },
  {
   "cell_type": "markdown",
   "metadata": {},
   "source": [
    "## 设置模型与训练参数"
   ]
  },
  {
   "cell_type": "code",
   "execution_count": 6,
   "metadata": {},
   "outputs": [],
   "source": [
    "train_seq_length = 1025\n",
    "database_name = 'pop17'\n",
    "eval_out_path = './pop17-dataset/pop17_eval_dataset.json'\n",
    "train_out_path = './pop17-dataset/pop17_train_dataset.json'\n",
    "test_out_path = './pop17-dataset/pop17_test_dataset.json'\n",
    "log_dir = './tf_logs/'\n",
    "checkpoint_dir = './hy-tmp/checkpoints/'"
   ]
  },
  {
   "cell_type": "code",
   "execution_count": 7,
   "metadata": {},
   "outputs": [],
   "source": [
    "# Train\n",
    "\n",
    "epoch = 1\n",
    "batch_size = 5\n",
    "warmup_steps = 4000\n",
    "save_n_step = 20\n",
    "setLogs_n_step = 20\n",
    "save_test_best_n_step = 500\n",
    "test_start_step = 5000\n",
    "reset_states_n_step = 20\n",
    "\n",
    "\n",
    "\n",
    "# [Family Bar/position Pitch Velocity Duration Chord Rest Tempo]\n",
    "\n",
    "token_range = [2, 34, 89, 33, 65, 18, 10, 33]\n",
    "emb_sizes = [32, 64, 256, 128, 128, 64, 64, 64]\n",
    "\n",
    "vocab_sizes = [i+2 for i in token_range]\n",
    "eos_tokens = [i+1 for i in token_range]\n",
    "\n",
    "eos_tokens = vocab2token([eos_tokens])[0]\n",
    "random.seed(1)  # for data\n",
    "\n",
    "config = {\n",
    "    \"vocab_sizes\": vocab_sizes,\n",
    "    \"emb_sizes\": emb_sizes,\n",
    "    \"d_model\": 128,\n",
    "    \"dff\": 1024,\n",
    "    \"num_layers\": 4,\n",
    "    \"num_heads\": 4,\n",
    "    \"dropout_rate\": 0.1,\n",
    "    \"length\": 1024,\n",
    "    \"rpr\": True,\n",
    "    \"dataset\": f'{database_name}_{train_seq_length}',\n",
    "}"
   ]
  },
  {
   "cell_type": "markdown",
   "metadata": {},
   "source": [
    "## 初始化模型"
   ]
  },
  {
   "cell_type": "code",
   "execution_count": 8,
   "metadata": {},
   "outputs": [],
   "source": [
    "mt = model().getLinearTransformerXL(config, log_dir, checkpoint_dir)"
   ]
  },
  {
   "cell_type": "markdown",
   "metadata": {},
   "source": [
    "## 加载权重"
   ]
  },
  {
   "cell_type": "code",
   "execution_count": 9,
   "metadata": {},
   "outputs": [
    {
     "name": "stdout",
     "output_type": "stream",
     "text": [
      "load:./hy-tmp/checkpoints/-vocab_sizes4-36-91-35-67-20-12-35-emb_sizes32-64-256-128-128-64-64-64-d_model128-dff1024-num_layers4-num_heads4-dropout_rate0.1-length1024-rprTrue-datasetpop17_1025/lastest-ckpt\n"
     ]
    }
   ],
   "source": [
    "if len(os.listdir(mt.checkpoint_dir)) > 0:\n",
    "    checkpoint_path = f\"{mt.checkpoint_dir}/lastest-ckpt\"\n",
    "    print(f'load:{checkpoint_path}')\n",
    "    mt.load_weights(checkpoint_path)"
   ]
  },
  {
   "cell_type": "markdown",
   "metadata": {},
   "source": [
    "# 查看模型"
   ]
  },
  {
   "cell_type": "code",
   "execution_count": 10,
   "metadata": {},
   "outputs": [
    {
     "name": "stdout",
     "output_type": "stream",
     "text": [
      "Model: \"linear_transformer_xl\"\n",
      "_________________________________________________________________\n",
      "Layer (type)                 Output Shape              Param #   \n",
      "=================================================================\n",
      "encoder_layer (EncoderLayer) multiple                  362624    \n",
      "_________________________________________________________________\n",
      "encoder_layer_1 (EncoderLaye multiple                  362624    \n",
      "_________________________________________________________________\n",
      "encoder_layer_2 (EncoderLaye multiple                  362624    \n",
      "_________________________________________________________________\n",
      "encoder_layer_3 (EncoderLaye multiple                  362624    \n",
      "_________________________________________________________________\n",
      "embedding (Embedding)        multiple                  128       \n",
      "_________________________________________________________________\n",
      "embedding_1 (Embedding)      multiple                  2304      \n",
      "_________________________________________________________________\n",
      "embedding_2 (Embedding)      multiple                  23296     \n",
      "_________________________________________________________________\n",
      "embedding_3 (Embedding)      multiple                  4480      \n",
      "_________________________________________________________________\n",
      "embedding_4 (Embedding)      multiple                  8576      \n",
      "_________________________________________________________________\n",
      "embedding_5 (Embedding)      multiple                  1280      \n",
      "_________________________________________________________________\n",
      "embedding_6 (Embedding)      multiple                  768       \n",
      "_________________________________________________________________\n",
      "embedding_7 (Embedding)      multiple                  2240      \n",
      "_________________________________________________________________\n",
      "dense_24 (Dense)             multiple                  102528    \n",
      "_________________________________________________________________\n",
      "dropout_8 (Dropout)          multiple                  0         \n",
      "_________________________________________________________________\n",
      "dense_25 (Dense)             multiple                  516       \n",
      "_________________________________________________________________\n",
      "dense_26 (Dense)             multiple                  5796      \n",
      "_________________________________________________________________\n",
      "dense_27 (Dense)             multiple                  14651     \n",
      "_________________________________________________________________\n",
      "dense_28 (Dense)             multiple                  5635      \n",
      "_________________________________________________________________\n",
      "dense_29 (Dense)             multiple                  10787     \n",
      "_________________________________________________________________\n",
      "dense_30 (Dense)             multiple                  3220      \n",
      "_________________________________________________________________\n",
      "dense_31 (Dense)             multiple                  1932      \n",
      "_________________________________________________________________\n",
      "dense_32 (Dense)             multiple                  5635      \n",
      "=================================================================\n",
      "Total params: 1,644,268\n",
      "Trainable params: 1,644,268\n",
      "Non-trainable params: 0\n",
      "_________________________________________________________________\n"
     ]
    }
   ],
   "source": [
    "inp = tf.constant([[[1, 1, 1, 1, 1, 1, 1, 1]]], tf.int64)\n",
    "r, w = mt(inp, True, inp)\n",
    "mt.summary()"
   ]
  },
  {
   "cell_type": "code",
   "execution_count": 28,
   "metadata": {},
   "outputs": [
    {
     "name": "stdout",
     "output_type": "stream",
     "text": [
      "Requirement already satisfied: graphviz in /home/seugaoms/anaconda3/envs/python36/lib/python3.6/site-packages (0.16)\n",
      "Requirement already satisfied: pydot in /home/seugaoms/anaconda3/envs/python36/lib/python3.6/site-packages (1.4.2)\n",
      "Requirement already satisfied: pyparsing>=2.1.4 in /home/seugaoms/anaconda3/envs/python36/lib/python3.6/site-packages (from pydot) (2.4.7)\n"
     ]
    }
   ],
   "source": [
    "# !pip install graphviz\n",
    "# !pip install pydot"
   ]
  },
  {
   "cell_type": "code",
   "execution_count": 32,
   "metadata": {},
   "outputs": [
    {
     "data": {
      "image/png": "[encoded data removed]",
      "text/plain": [
       "<IPython.core.display.Image object>"
      ]
     },
     "execution_count": 32,
     "metadata": {},
     "output_type": "execute_result"
    }
   ],
   "source": [
    "from keras.utils.vis_utils import plot_model\n",
    "plot_model(mt, to_file='linear_transformer_xl.png', show_shapes=True)"
   ]
  },
  {
   "cell_type": "markdown",
   "metadata": {},
   "source": [
    "## 存放 run state"
   ]
  },
  {
   "cell_type": "code",
   "execution_count": 12,
   "metadata": {},
   "outputs": [],
   "source": [
    "train_cache_dir = f'{mt.log_dir}/train_process.json'\n",
    "train_process_json = Train_process_json(train_cache_dir)"
   ]
  },
  {
   "cell_type": "code",
   "execution_count": 13,
   "metadata": {},
   "outputs": [
    {
     "name": "stdout",
     "output_type": "stream",
     "text": [
      "<Model.Train_process_json object at 0x7f3fac65f048>\n"
     ]
    }
   ],
   "source": [
    "print(train_process_json)"
   ]
  },
  {
   "cell_type": "code",
   "execution_count": 14,
   "metadata": {},
   "outputs": [
    {
     "name": "stdout",
     "output_type": "stream",
     "text": [
      "{'step': 15268, 'best_acc': '0.84261805', 'best_loss': '0.49120894'}\n"
     ]
    }
   ],
   "source": [
    "import json\n",
    "path='data'\n",
    "f = open(train_cache_dir,'r',encoding='utf-8')\n",
    "m = json.load(f) # json.load() 这种方法是解析一个文件中的数据\n",
    "\t\t\t\t # json.loads() 需要先将文件，读到一个变量作为字符串, 解析一个字符串中的数\n",
    "\n",
    "print(m)"
   ]
  },
  {
   "cell_type": "markdown",
   "metadata": {},
   "source": [
    "## 设置训练信息"
   ]
  },
  {
   "cell_type": "code",
   "execution_count": 15,
   "metadata": {},
   "outputs": [],
   "source": [
    "class CustomSchedule(tf.keras.optimizers.schedules.LearningRateSchedule):\n",
    "    def __init__(self, d_model, warmup_steps=warmup_steps):\n",
    "        super(CustomSchedule, self).__init__()\n",
    "\n",
    "        self.d_model = d_model\n",
    "        self.d_model = tf.cast(self.d_model, tf.float32)\n",
    "        self.warmup_steps = warmup_steps\n",
    "        self.step = 0\n",
    "        self.lr = 0\n",
    "\n",
    "    def __call__(self, step):\n",
    "        arg1 = tf.math.rsqrt(step)\n",
    "        arg2 = step * (self.warmup_steps ** -1.5)\n",
    "        lr = tf.math.rsqrt(self.d_model) * tf.math.minimum(arg1, arg2)\n",
    "\n",
    "        self.step = step\n",
    "        self.lr = lr\n",
    "        return lr\n",
    "\n",
    "\n",
    "learning_rate = CustomSchedule(config['d_model'])\n",
    "optimizer = tf.keras.optimizers.Adam(learning_rate, beta_1=0.9, beta_2=0.98,\n",
    "                                     epsilon=1e-9)\n",
    "\n",
    "\n",
    "def loss_function(real, pred):\n",
    "    loss_object = tf.keras.losses.SparseCategoricalCrossentropy(\n",
    "        from_logits=True, reduction='none')\n",
    "    mask = tf.math.logical_not(tf.math.equal(real, 0))\n",
    "    loss_ = loss_object(real, pred)\n",
    "    mask = tf.cast(mask, dtype=loss_.dtype)\n",
    "    loss_ *= mask\n",
    "    return tf.reduce_sum(loss_)/tf.reduce_sum(mask)\n",
    "\n",
    "\n",
    "def accuracy_function(real, pred):\n",
    "    accuracies = tf.equal(real, tf.argmax(pred, axis=2))\n",
    "\n",
    "    mask = tf.math.logical_not(tf.math.equal(real, 0))\n",
    "    accuracies = tf.math.logical_and(mask, accuracies)\n",
    "\n",
    "    accuracies = tf.cast(accuracies, dtype=tf.float32)\n",
    "    mask = tf.cast(mask, dtype=tf.float32)\n",
    "    return tf.reduce_sum(accuracies)/tf.reduce_sum(mask)\n"
   ]
  },
  {
   "cell_type": "code",
   "execution_count": 16,
   "metadata": {},
   "outputs": [],
   "source": [
    "mt.train_setup(loss_function, accuracy_function,\n",
    "               optimizer)\n"
   ]
  },
  {
   "cell_type": "markdown",
   "metadata": {},
   "source": [
    "## 读取训练状态\n"
   ]
  },
  {
   "cell_type": "code",
   "execution_count": 17,
   "metadata": {},
   "outputs": [],
   "source": [
    "best_acc = train_process_json.get()['best_acc']\n",
    "best_loss = train_process_json.get()['best_loss']\n",
    "current_step = train_process_json.get()['step']"
   ]
  },
  {
   "cell_type": "markdown",
   "metadata": {},
   "source": [
    "## 配置tf-logs"
   ]
  },
  {
   "cell_type": "code",
   "execution_count": 18,
   "metadata": {},
   "outputs": [],
   "source": [
    "stat_names = ['Family', 'Position', 'Pitch',\n",
    "              'Velocity', 'Duration', 'Chord', 'Rest', 'Tempo', 'Total']\n",
    "train_losses = [tf.keras.metrics.Mean(\n",
    "    name=f'{n}_loss') for n in stat_names]\n",
    "train_accuracy = [tf.keras.metrics.Mean(\n",
    "    name=f'{n}_accuracy') for n in stat_names]\n",
    "\n",
    "eval_losses = [tf.keras.metrics.Mean(\n",
    "    name=f'{n}_loss') for n in stat_names]\n",
    "eval_accuracy = [tf.keras.metrics.Mean(\n",
    "    name=f'{n}_accuracy') for n in stat_names]\n",
    "\n",
    "train_summary_writer = tf.summary.create_file_writer(f'{mt.log_dir}/train_dir')\n",
    "eval_summary_writer = tf.summary.create_file_writer(f'{mt.log_dir}/eval_dir')\n",
    "test_summary_writer = tf.summary.create_file_writer(f'{mt.log_dir}/test_dir')\n",
    "\n",
    "\n",
    "def setLogs():\n",
    "    step = current_step\n",
    "    with train_summary_writer.as_default():\n",
    "        for l in train_losses:\n",
    "            tf.summary.scalar(l.name, l.result(), step=step)\n",
    "        for a in train_accuracy:\n",
    "            tf.summary.scalar(a.name, a.result(), step=step)\n",
    "    with eval_summary_writer.as_default():\n",
    "        for l in eval_losses:\n",
    "            tf.summary.scalar(l.name, l.result(), step=step)\n",
    "        for a in eval_accuracy:\n",
    "            tf.summary.scalar(a.name, a.result(), step=step)\n",
    "\n",
    "\n",
    "def reset_states():\n",
    "    for t in train_losses:\n",
    "        t.reset_states()\n",
    "    for t in train_accuracy:\n",
    "        t.reset_states()\n",
    "    for t in eval_losses:\n",
    "        t.reset_states()\n",
    "    for t in eval_accuracy:\n",
    "        t.reset_states()\n"
   ]
  },
  {
   "cell_type": "markdown",
   "metadata": {},
   "source": [
    "## 定义 ckpt 保存函数"
   ]
  },
  {
   "cell_type": "code",
   "execution_count": 19,
   "metadata": {},
   "outputs": [],
   "source": [
    "def save_lastest_ckpt():\n",
    "    train_process_json.set(current_step, best_acc, best_loss)\n",
    "    mt.save_weights(\n",
    "        f'{mt.checkpoint_dir}/lastest-ckpt', overwrite=True, save_format=\"tf\")\n",
    "\n",
    "\n",
    "def save_test_best_ckpt(loss, acc):\n",
    "    global best_acc\n",
    "    global best_loss\n",
    "\n",
    "    if(acc > best_acc):\n",
    "        best_acc = acc\n",
    "        train_process_json.set(current_step, best_acc, best_loss)\n",
    "        mt.save_weights(\n",
    "            f'{mt.checkpoint_dir}/best_acc-ckpt{current_step}', overwrite=True, save_format=\"tf\")\n",
    "\n",
    "    if(loss < best_loss):\n",
    "        train_process_json.set(current_step, best_acc, best_loss)\n",
    "        best_loss = loss\n",
    "        mt.save_weights(\n",
    "            f'{mt.checkpoint_dir}/best_loss-ckpt{current_step}', overwrite=True, save_format=\"tf\")\n",
    "\n",
    "    mt.save_weights(f'{mt.checkpoint_dir}/ckpt{current_step}',\n",
    "                    overwrite=True, save_format=\"tf\")\n",
    "\n",
    "    with test_summary_writer.as_default():\n",
    "        tf.summary.scalar('test_loss', loss, step=current_step)\n",
    "        tf.summary.scalar('test_acc', acc, step=current_step)\n"
   ]
  },
  {
   "cell_type": "markdown",
   "metadata": {},
   "source": [
    "## 开始训练"
   ]
  },
  {
   "cell_type": "code",
   "execution_count": 20,
   "metadata": {},
   "outputs": [
    {
     "name": "stdout",
     "output_type": "stream",
     "text": [
      "eval_ds length 9107\n",
      "train_ds length 76346\n"
     ]
    },
    {
     "name": "stderr",
     "output_type": "stream",
     "text": [
      "  0%|          | 0/15270 [00:00<?, ?it/s]"
     ]
    },
    {
     "name": "stdout",
     "output_type": "stream",
     "text": [
      "test_ds length 10404\n"
     ]
    },
    {
     "name": "stderr",
     "output_type": "stream",
     "text": [
      "Epoch/step 1/15270: lr 0.000715279  Loss/eval/best 0.383532/0.491319/0.491209  Acc/eval/best 0.865234/0.842198/0.842618: : 15271it [00:14, 1036.22it/s]                         \n"
     ]
    }
   ],
   "source": [
    "for e in range(epoch):\n",
    "\n",
    "    eval_ds = CP_Word_Dataset(eval_out_path, train_seq_length, eos_tokens)\n",
    "    print('eval_ds length', eval_ds.total_seq)\n",
    "\n",
    "    train_ds = CP_Word_Dataset(train_out_path, train_seq_length, eos_tokens)\n",
    "\n",
    "    print('train_ds length', train_ds.total_seq)\n",
    "\n",
    "    test_ds = CP_Word_Dataset(test_out_path, train_seq_length, eos_tokens)\n",
    "\n",
    "    print('test_ds length', test_ds.total_seq)\n",
    "\n",
    "    train_step_per_epoch = math.ceil(train_ds.total_seq / batch_size)\n",
    "    eval_step_per_epoch = math.ceil(eval_ds.total_seq / batch_size)\n",
    "\n",
    "    current_epoch = math.ceil(current_step / train_step_per_epoch)\n",
    "\n",
    "    train_data_range_idxs = random.sample(\n",
    "        range(train_ds.total_seq), train_ds.total_seq)\n",
    "\n",
    "    eval_data_range_idxs = random.sample(\n",
    "        range(eval_ds.total_seq), eval_ds.total_seq)\n",
    "\n",
    "    with tqdm(total=train_step_per_epoch) as bar:\n",
    "        idx = 0\n",
    "        train_seq_start_idx = current_step % train_step_per_epoch * batch_size\n",
    "\n",
    "        for batch_idxs in batch(train_data_range_idxs[train_seq_start_idx:], batch_size):\n",
    "\n",
    "            # train\n",
    "            seqs = train_ds.get_seqs(batch_idxs)  # (batch_size, length, 6)\n",
    "            losses, acc = mt.train_step(np.array(seqs))\n",
    "            current_step += 1\n",
    "            current_lr = learning_rate(tf.cast(current_step, tf.float32))\n",
    "\n",
    "            for i in range(len(losses)):\n",
    "                train_losses[i](losses[i].numpy())\n",
    "                train_accuracy[i](acc[i])\n",
    "            train_losses[-1](np.sum([l.numpy()\n",
    "                             for l in losses]) / len(losses))  # 均值\n",
    "            train_accuracy[-1](np.sum(acc) / len(losses))\n",
    "\n",
    "            # eval\n",
    "            e_start_idx = current_step % eval_step_per_epoch * batch_size\n",
    "            eval_batch_idxs = eval_data_range_idxs[e_start_idx: e_start_idx + batch_size]\n",
    "\n",
    "            eval_seqs = eval_ds.get_seqs(eval_batch_idxs)\n",
    "            e_losses, e_acc = mt.eval(eval_seqs)\n",
    "\n",
    "            for i in range(len(losses)):\n",
    "                eval_losses[i](e_losses[i].numpy())\n",
    "                eval_accuracy[i](e_acc[i])\n",
    "\n",
    "            eval_losses[-1](np.sum([l.numpy()\n",
    "                            for l in e_losses]) / len(e_losses))  # 均值\n",
    "            eval_accuracy[-1](np.sum(e_acc) / len(e_losses))\n",
    "\n",
    "            if idx % setLogs_n_step == 0:\n",
    "                setLogs()\n",
    "\n",
    "            if idx % save_n_step == 0:\n",
    "                save_lastest_ckpt()\n",
    "\n",
    "            # if idx % save_eval_best_n_step == 0:\n",
    "            #     save_eval_best_ckpt()\n",
    "\n",
    "            if current_step % save_test_best_n_step == 0 and current_step > test_start_step:\n",
    "                loss, acc = mt.test(test_ds, batch_size)\n",
    "                save_test_best_ckpt(loss, acc)\n",
    "\n",
    "            # [Family Bar/position Pitch Velocity Duration Tempo]\n",
    "            bar.set_description(\n",
    "                f'Epoch/step {current_epoch}/{current_step}: lr {float(current_lr):.6}  Loss/eval/best {float(train_losses[-1].result()):.6}/{float(eval_losses[-1].result()):.6}/{best_loss:.6}  Acc/eval/best {float(train_accuracy[-1].result()):.6}/{float(eval_accuracy[-1].result()):.6}/{best_acc:.6}'\n",
    "            )\n",
    "            if idx == 0:\n",
    "                bar.update(current_step % train_step_per_epoch)\n",
    "            bar.update(1)\n",
    "\n",
    "            if idx % reset_states_n_step == 0:\n",
    "                reset_states()\n",
    "            idx += 1\n"
   ]
  },
  {
   "cell_type": "markdown",
   "metadata": {},
   "source": [
    "## 生成 MIDI"
   ]
  },
  {
   "cell_type": "code",
   "execution_count": 21,
   "metadata": {},
   "outputs": [
    {
     "name": "stderr",
     "output_type": "stream",
     "text": [
      "  0%|          | 0/500 [00:00<?, ?it/s]"
     ]
    },
    {
     "name": "stdout",
     "output_type": "stream",
     "text": [
      "load:./hy-tmp/checkpoints/-vocab_sizes4-36-91-35-67-20-12-35-emb_sizes32-64-256-128-128-64-64-64-d_model128-dff1024-num_layers4-num_heads4-dropout_rate0.1-length1024-rprTrue-datasetpop17_1025/lastest-ckpt\n",
      "\u001b[93mmiditok warning: CPWordEncoding class has been renamed CPWord and will be removed in future updates, please consider changing it in your code.\u001b[0m\n"
     ]
    },
    {
     "name": "stderr",
     "output_type": "stream",
     "text": [
      "100%|██████████| 500/500 [00:50<00:00,  9.96it/s]\n"
     ]
    }
   ],
   "source": [
    "from dataset import get_tokenizer\n",
    "import datetime\n",
    "\n",
    "ckpt = 'lastest-ckpt'\n",
    "\n",
    "if len(os.listdir(mt.checkpoint_dir)) > 0:\n",
    "    checkpoint_path = f\"{mt.checkpoint_dir}/{ckpt}\"\n",
    "    print(f'load:{checkpoint_path}')\n",
    "    mt.load_weights(checkpoint_path)\n",
    "\n",
    "tokenizer = get_tokenizer()\n",
    "seed_length = 10\n",
    "length = 500\n",
    "temperature = [0.05, 0.01, 1, 1, 1.1, 0.01, 1, 0.01]\n",
    "nucleus_p = [False, 0.9, 0.9, 0.9, 0.95, 0.9, 0.9, 0.9]\n",
    "\n",
    "\n",
    "if_end = False  # Fasle 为屏蔽 EOS Token\n",
    "\n",
    "\n",
    "\n",
    "seqs = np.array(eval_ds.get_seqs([0]))\n",
    "inp = seqs[:batch_size, :seed_length]\n",
    "\n",
    "\n",
    "\n",
    "gen = mt.generate(np.array(inp), int(length), temperature, nucleus_p, if_end)\n",
    "tokens = [vocab2token(g) for g in gen]\n",
    "current_time = datetime.datetime.now().strftime('%Y%m%d-%H%M%S')\n",
    "\n",
    "idx = 0\n",
    "\n"
   ]
  },
  {
   "cell_type": "code",
   "execution_count": 22,
   "metadata": {},
   "outputs": [
    {
     "name": "stdout",
     "output_type": "stream",
     "text": [
      "[array([[  3,   1,   4, ..., 224, 242, 252],\n",
      "       [  3,   1,   4, ..., 224, 242, 252],\n",
      "       [  3, 192,   4, ..., 224, 242, 258],\n",
      "       ...,\n",
      "       [  3, 220,   4, ..., 224, 242, 259],\n",
      "       [  2, 191,  40, ..., 224, 242, 252],\n",
      "       [  3,   1,   4, ..., 224, 242, 252]])]\n"
     ]
    }
   ],
   "source": [
    "# 这边生成的数据是什么样式的？\n",
    "print(tokens)\n"
   ]
  },
  {
   "cell_type": "code",
   "execution_count": 23,
   "metadata": {},
   "outputs": [
    {
     "data": {
      "image/png": "[encoded data removed]",
      "text/plain": [
       "<Figure size 432x288 with 1 Axes>"
      ]
     },
     "metadata": {
      "needs_background": "light"
     },
     "output_type": "display_data"
    }
   ],
   "source": [
    "import numpy as np\n",
    "import matplotlib as mpl\n",
    "import matplotlib.pyplot as plt\n",
    "np.random.seed(1000)\n",
    "y = tokens[0]\n",
    "# print \"y = %s\"% y\n",
    "x = range(len(y))\n",
    "# print \"x=%s\"% x\n",
    "plt.plot(y)\n",
    "plt.show()"
   ]
  },
  {
   "cell_type": "code",
   "execution_count": 24,
   "metadata": {},
   "outputs": [
    {
     "data": {
      "image/png": "[encoded data removed]",
      "text/plain": [
       "<Figure size 432x288 with 1 Axes>"
      ]
     },
     "metadata": {
      "needs_background": "light"
     },
     "output_type": "display_data"
    }
   ],
   "source": [
    "import numpy as np\n",
    "import matplotlib as mpl\n",
    "import matplotlib.pyplot as plt\n",
    "np.random.seed(1000)\n",
    "y = tokens[0][0:20]\n",
    "# print \"y = %s\"% y\n",
    "x = range(len(y))\n",
    "# print \"x=%s\"% x\n",
    "plt.plot(y)\n",
    "plt.show()"
   ]
  },
  {
   "cell_type": "code",
   "execution_count": 25,
   "metadata": {},
   "outputs": [],
   "source": [
    "# [[Tokenizer]] 的主要功能就是将 seqence 转变为一个 id 序列"
   ]
  },
  {
   "cell_type": "code",
   "execution_count": 26,
   "metadata": {},
   "outputs": [
    {
     "ename": "KeyError",
     "evalue": "3",
     "output_type": "error",
     "traceback": [
      "\u001b[0;31m---------------------------------------------------------------------------\u001b[0m",
      "\u001b[0;31mKeyError\u001b[0m                                  Traceback (most recent call last)",
      "\u001b[0;32m<ipython-input-26-d085af2578db>\u001b[0m in \u001b[0;36m<module>\u001b[0;34m\u001b[0m\n\u001b[1;32m      1\u001b[0m \u001b[0;32mfor\u001b[0m \u001b[0mmidi_token\u001b[0m \u001b[0;32min\u001b[0m \u001b[0mtokens\u001b[0m\u001b[0;34m:\u001b[0m\u001b[0;34m\u001b[0m\u001b[0;34m\u001b[0m\u001b[0m\n\u001b[1;32m      2\u001b[0m     converted_back_midi = tokenizer.tokens_to_midi(\n\u001b[0;32m----> 3\u001b[0;31m         np.array([midi_token]), [(0, False)])\n\u001b[0m\u001b[1;32m      4\u001b[0m     converted_back_midi.dump(\n\u001b[1;32m      5\u001b[0m         f'./gen_midi/{idx}-{temperature}-{nucleus_p}-{length}.{current_time}.midi')\n",
      "\u001b[0;32m~/anaconda3/envs/python36/lib/python3.6/site-packages/miditok/midi_tokenizer_base.py\u001b[0m in \u001b[0;36mtokens_to_midi\u001b[0;34m(self, tokens, programs, output_path, time_division)\u001b[0m\n\u001b[1;32m    211\u001b[0m         \u001b[0;32mfor\u001b[0m \u001b[0mi\u001b[0m\u001b[0;34m,\u001b[0m \u001b[0mtrack_tokens\u001b[0m \u001b[0;32min\u001b[0m \u001b[0menumerate\u001b[0m\u001b[0;34m(\u001b[0m\u001b[0mtokens\u001b[0m\u001b[0;34m)\u001b[0m\u001b[0;34m:\u001b[0m\u001b[0;34m\u001b[0m\u001b[0;34m\u001b[0m\u001b[0m\n\u001b[1;32m    212\u001b[0m             \u001b[0;32mif\u001b[0m \u001b[0mprograms\u001b[0m \u001b[0;32mis\u001b[0m \u001b[0;32mnot\u001b[0m \u001b[0;32mNone\u001b[0m\u001b[0;34m:\u001b[0m\u001b[0;34m\u001b[0m\u001b[0;34m\u001b[0m\u001b[0m\n\u001b[0;32m--> 213\u001b[0;31m                 \u001b[0mtrack\u001b[0m\u001b[0;34m,\u001b[0m \u001b[0mtempo_changes\u001b[0m \u001b[0;34m=\u001b[0m \u001b[0mself\u001b[0m\u001b[0;34m.\u001b[0m\u001b[0mtokens_to_track\u001b[0m\u001b[0;34m(\u001b[0m\u001b[0mtrack_tokens\u001b[0m\u001b[0;34m,\u001b[0m \u001b[0mtime_division\u001b[0m\u001b[0;34m,\u001b[0m \u001b[0mprograms\u001b[0m\u001b[0;34m[\u001b[0m\u001b[0mi\u001b[0m\u001b[0;34m]\u001b[0m\u001b[0;34m)\u001b[0m\u001b[0;34m\u001b[0m\u001b[0;34m\u001b[0m\u001b[0m\n\u001b[0m\u001b[1;32m    214\u001b[0m             \u001b[0;32melse\u001b[0m\u001b[0;34m:\u001b[0m\u001b[0;34m\u001b[0m\u001b[0;34m\u001b[0m\u001b[0m\n\u001b[1;32m    215\u001b[0m                 \u001b[0mtrack\u001b[0m\u001b[0;34m,\u001b[0m \u001b[0mtempo_changes\u001b[0m \u001b[0;34m=\u001b[0m \u001b[0mself\u001b[0m\u001b[0;34m.\u001b[0m\u001b[0mtokens_to_track\u001b[0m\u001b[0;34m(\u001b[0m\u001b[0mtrack_tokens\u001b[0m\u001b[0;34m,\u001b[0m \u001b[0mtime_division\u001b[0m\u001b[0;34m)\u001b[0m\u001b[0;34m\u001b[0m\u001b[0;34m\u001b[0m\u001b[0m\n",
      "\u001b[0;32m~/anaconda3/envs/python36/lib/python3.6/site-packages/miditok/cp_word.py\u001b[0m in \u001b[0;36mtokens_to_track\u001b[0;34m(self, tokens, time_division, program)\u001b[0m\n\u001b[1;32m    243\u001b[0m         \u001b[0;32massert\u001b[0m \u001b[0mtime_division\u001b[0m \u001b[0;34m%\u001b[0m \u001b[0mmax\u001b[0m\u001b[0;34m(\u001b[0m\u001b[0mself\u001b[0m\u001b[0;34m.\u001b[0m\u001b[0mbeat_res\u001b[0m\u001b[0;34m.\u001b[0m\u001b[0mvalues\u001b[0m\u001b[0;34m(\u001b[0m\u001b[0;34m)\u001b[0m\u001b[0;34m)\u001b[0m \u001b[0;34m==\u001b[0m \u001b[0;36m0\u001b[0m\u001b[0;34m,\u001b[0m\u001b[0;31m\\\u001b[0m\u001b[0;34m\u001b[0m\u001b[0;34m\u001b[0m\u001b[0m\n\u001b[1;32m    244\u001b[0m             \u001b[0;34mf'Invalid time division, please give one divisible by {max(self.beat_res.values())}'\u001b[0m\u001b[0;34m\u001b[0m\u001b[0;34m\u001b[0m\u001b[0m\n\u001b[0;32m--> 245\u001b[0;31m         \u001b[0mevents\u001b[0m \u001b[0;34m=\u001b[0m \u001b[0mself\u001b[0m\u001b[0;34m.\u001b[0m\u001b[0mtokens_to_events\u001b[0m\u001b[0;34m(\u001b[0m\u001b[0mtokens\u001b[0m\u001b[0;34m)\u001b[0m\u001b[0;34m\u001b[0m\u001b[0;34m\u001b[0m\u001b[0m\n\u001b[0m\u001b[1;32m    246\u001b[0m \u001b[0;34m\u001b[0m\u001b[0m\n\u001b[1;32m    247\u001b[0m         \u001b[0mticks_per_sample\u001b[0m \u001b[0;34m=\u001b[0m \u001b[0mtime_division\u001b[0m \u001b[0;34m//\u001b[0m \u001b[0mmax\u001b[0m\u001b[0;34m(\u001b[0m\u001b[0mself\u001b[0m\u001b[0;34m.\u001b[0m\u001b[0mbeat_res\u001b[0m\u001b[0;34m.\u001b[0m\u001b[0mvalues\u001b[0m\u001b[0;34m(\u001b[0m\u001b[0;34m)\u001b[0m\u001b[0;34m)\u001b[0m\u001b[0;34m\u001b[0m\u001b[0;34m\u001b[0m\u001b[0m\n",
      "\u001b[0;32m~/anaconda3/envs/python36/lib/python3.6/site-packages/miditok/midi_tokenizer_base.py\u001b[0m in \u001b[0;36mtokens_to_events\u001b[0;34m(self, tokens, multi_voc)\u001b[0m\n\u001b[1;32m    183\u001b[0m                 \u001b[0mmulti_event\u001b[0m \u001b[0;34m=\u001b[0m \u001b[0;34m[\u001b[0m\u001b[0;34m]\u001b[0m\u001b[0;34m\u001b[0m\u001b[0;34m\u001b[0m\u001b[0m\n\u001b[1;32m    184\u001b[0m                 \u001b[0;32mfor\u001b[0m \u001b[0mi\u001b[0m\u001b[0;34m,\u001b[0m \u001b[0mtoken\u001b[0m \u001b[0;32min\u001b[0m \u001b[0menumerate\u001b[0m\u001b[0;34m(\u001b[0m\u001b[0mmulti_token\u001b[0m\u001b[0;34m)\u001b[0m\u001b[0;34m:\u001b[0m\u001b[0;34m\u001b[0m\u001b[0;34m\u001b[0m\u001b[0m\n\u001b[0;32m--> 185\u001b[0;31m                     \u001b[0mname\u001b[0m\u001b[0;34m,\u001b[0m \u001b[0mval\u001b[0m \u001b[0;34m=\u001b[0m \u001b[0mself\u001b[0m\u001b[0;34m.\u001b[0m\u001b[0mvocab\u001b[0m\u001b[0;34m[\u001b[0m\u001b[0mi\u001b[0m\u001b[0;34m]\u001b[0m\u001b[0;34m.\u001b[0m\u001b[0mtoken_to_event\u001b[0m\u001b[0;34m[\u001b[0m\u001b[0mtoken\u001b[0m\u001b[0;34m]\u001b[0m\u001b[0;34m.\u001b[0m\u001b[0msplit\u001b[0m\u001b[0;34m(\u001b[0m\u001b[0;34m'_'\u001b[0m\u001b[0;34m)\u001b[0m\u001b[0;34m\u001b[0m\u001b[0;34m\u001b[0m\u001b[0m\n\u001b[0m\u001b[1;32m    186\u001b[0m                     \u001b[0mmulti_event\u001b[0m\u001b[0;34m.\u001b[0m\u001b[0mappend\u001b[0m\u001b[0;34m(\u001b[0m\u001b[0mEvent\u001b[0m\u001b[0;34m(\u001b[0m\u001b[0mname\u001b[0m\u001b[0;34m,\u001b[0m \u001b[0;32mNone\u001b[0m\u001b[0;34m,\u001b[0m \u001b[0mval\u001b[0m\u001b[0;34m,\u001b[0m \u001b[0;32mNone\u001b[0m\u001b[0;34m)\u001b[0m\u001b[0;34m)\u001b[0m\u001b[0;34m\u001b[0m\u001b[0;34m\u001b[0m\u001b[0m\n\u001b[1;32m    187\u001b[0m                 \u001b[0mevents\u001b[0m\u001b[0;34m.\u001b[0m\u001b[0mappend\u001b[0m\u001b[0;34m(\u001b[0m\u001b[0mmulti_event\u001b[0m\u001b[0;34m)\u001b[0m\u001b[0;34m\u001b[0m\u001b[0;34m\u001b[0m\u001b[0m\n",
      "\u001b[0;31mKeyError\u001b[0m: 3"
     ]
    }
   ],
   "source": [
    "for midi_token in tokens:\n",
    "    converted_back_midi = tokenizer.tokens_to_midi(\n",
    "        np.array([midi_token]), [(0, False)])\n",
    "    converted_back_midi.dump(\n",
    "        f'./gen_midi/{idx}-{temperature}-{nucleus_p}-{length}.{current_time}.midi')\n",
    "    idx += 1"
   ]
  },
  {
   "cell_type": "markdown",
   "metadata": {},
   "source": [
    "# jupyter 插件"
   ]
  },
  {
   "cell_type": "code",
   "execution_count": null,
   "metadata": {},
   "outputs": [],
   "source": [
    "!jupyter labextension list"
   ]
  },
  {
   "cell_type": "code",
   "execution_count": null,
   "metadata": {},
   "outputs": [],
   "source": [
    "!jupyter lab paths"
   ]
  },
  {
   "cell_type": "code",
   "execution_count": null,
   "metadata": {},
   "outputs": [],
   "source": [
    "# 构建失败编译500失败，请在服务器上运行“jupyter lab Build”以获得完整输出\n",
    "!jupyter lab Build"
   ]
  },
  {
   "cell_type": "markdown",
   "metadata": {},
   "source": [
    "# tensorboard\n"
   ]
  },
  {
   "cell_type": "code",
   "execution_count": null,
   "metadata": {},
   "outputs": [],
   "source": [
    "# print(mylogdir)"
   ]
  },
  {
   "cell_type": "code",
   "execution_count": null,
   "metadata": {},
   "outputs": [],
   "source": [
    "!tensorboard --logdir mylogdir"
   ]
  },
  {
   "cell_type": "code",
   "execution_count": null,
   "metadata": {},
   "outputs": [],
   "source": [
    "# !tensorboard --helpfull"
   ]
  },
  {
   "cell_type": "code",
   "execution_count": null,
   "metadata": {},
   "outputs": [],
   "source": [
    "!tensorboard dev upload --logdir \\ 'mylogdir' -y"
   ]
  },
  {
   "cell_type": "code",
   "execution_count": null,
   "metadata": {},
   "outputs": [],
   "source": []
  }
 ],
 "metadata": {
  "kernelspec": {
   "display_name": "Python 3",
   "language": "python",
   "name": "python3"
  },
  "language_info": {
   "codemirror_mode": {
    "name": "ipython",
    "version": 3
   },
   "file_extension": ".py",
   "mimetype": "text/x-python",
   "name": "python",
   "nbconvert_exporter": "python",
   "pygments_lexer": "ipython3",
   "version": "3.6.13"
  },
  "vscode": {
   "interpreter": {
    "hash": "7eb321900c0428563d450c5d7aa65b1cf7f8df0050172a26dd2e290cdbcf7e9f"
   }
  }
 },
 "nbformat": 4,
 "nbformat_minor": 4
}
