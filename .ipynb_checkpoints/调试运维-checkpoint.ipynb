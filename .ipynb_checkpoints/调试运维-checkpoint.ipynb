{
 "cells": [
  {
   "cell_type": "markdown",
   "id": "33143dbe-937b-4d02-abae-2b58d8c4b9b2",
   "metadata": {},
   "source": [
    "# 【已完成】删除多余的kernel"
   ]
  },
  {
   "cell_type": "code",
   "execution_count": 6,
   "id": "ec87ad90-32f9-4fb3-b479-a318376b0bcd",
   "metadata": {},
   "outputs": [
    {
     "name": "stdout",
     "output_type": "stream",
     "text": [
      "\n",
      "CommandNotFoundError: Your shell has not been properly configured to use 'conda activate'.\n",
      "To initialize your shell, run\n",
      "\n",
      "    $ conda init <SHELL_NAME>\n",
      "\n",
      "Currently supported shells are:\n",
      "  - bash\n",
      "  - fish\n",
      "  - tcsh\n",
      "  - xonsh\n",
      "  - zsh\n",
      "  - powershell\n",
      "\n",
      "See 'conda init --help' for more information and options.\n",
      "\n",
      "IMPORTANT: You may need to close and restart your shell after running 'conda init'.\n",
      "\n",
      "\n",
      "Available kernels:\n",
      "  python3    /home/seugaoms/anaconda3/envs/python36/share/jupyter/kernels/python3\n",
      "  xonsh      /usr/share/jupyter/kernels/xonsh\n"
     ]
    }
   ],
   "source": [
    "# !conda activate base # 在 base 环境下进行\n",
    "# !jupyter kernelspec list\n",
    "# # !jupyter kernelspec remove kernel_name # 可以连写多个"
   ]
  },
  {
   "cell_type": "code",
   "execution_count": 7,
   "id": "0868dca3-22df-4d79-805e-f7b8406d8b45",
   "metadata": {},
   "outputs": [],
   "source": [
    "# !jupyter kernelspec remove pycharm-a247837a xpython -y# 可以连写多个"
   ]
  },
  {
   "cell_type": "code",
   "execution_count": 8,
   "id": "340ada8e-0c1f-49d7-9100-99094f606aaf",
   "metadata": {},
   "outputs": [
    {
     "name": "stdout",
     "output_type": "stream",
     "text": [
      "Requirement already satisfied: nbconvert==6.0.0 in /home/seugaoms/anaconda3/envs/python36/lib/python3.6/site-packages (6.0.0)\n",
      "Requirement already satisfied: jupyter-core in /home/seugaoms/anaconda3/envs/python36/lib/python3.6/site-packages (from nbconvert==6.0.0) (4.7.1)\n",
      "Requirement already satisfied: pandocfilters>=1.4.1 in /home/seugaoms/anaconda3/envs/python36/lib/python3.6/site-packages (from nbconvert==6.0.0) (1.4.2)\n",
      "Requirement already satisfied: defusedxml in /home/seugaoms/anaconda3/envs/python36/lib/python3.6/site-packages (from nbconvert==6.0.0) (0.7.1)\n",
      "Requirement already satisfied: mistune<2,>=0.8.1 in /home/seugaoms/anaconda3/envs/python36/lib/python3.6/site-packages (from nbconvert==6.0.0) (0.8.4)\n",
      "Requirement already satisfied: traitlets>=4.2 in /home/seugaoms/anaconda3/envs/python36/lib/python3.6/site-packages (from nbconvert==6.0.0) (4.3.3)\n",
      "Requirement already satisfied: testpath in /home/seugaoms/anaconda3/envs/python36/lib/python3.6/site-packages (from nbconvert==6.0.0) (0.4.4)\n",
      "Requirement already satisfied: nbformat>=4.4 in /home/seugaoms/anaconda3/envs/python36/lib/python3.6/site-packages (from nbconvert==6.0.0) (5.1.3)\n",
      "Requirement already satisfied: entrypoints>=0.2.2 in /home/seugaoms/anaconda3/envs/python36/lib/python3.6/site-packages (from nbconvert==6.0.0) (0.3)\n",
      "Requirement already satisfied: bleach in /home/seugaoms/anaconda3/envs/python36/lib/python3.6/site-packages (from nbconvert==6.0.0) (3.3.0)\n",
      "Requirement already satisfied: nbclient<0.6.0,>=0.5.0 in /home/seugaoms/anaconda3/envs/python36/lib/python3.6/site-packages (from nbconvert==6.0.0) (0.5.3)\n",
      "Requirement already satisfied: jinja2>=2.4 in /home/seugaoms/anaconda3/envs/python36/lib/python3.6/site-packages (from nbconvert==6.0.0) (3.0.2)\n",
      "Requirement already satisfied: jupyterlab-pygments in /home/seugaoms/anaconda3/envs/python36/lib/python3.6/site-packages (from nbconvert==6.0.0) (0.1.2)\n",
      "Requirement already satisfied: pygments>=2.4.1 in /home/seugaoms/anaconda3/envs/python36/lib/python3.6/site-packages (from nbconvert==6.0.0) (2.8.1)\n",
      "Requirement already satisfied: MarkupSafe>=2.0 in /home/seugaoms/anaconda3/envs/python36/lib/python3.6/site-packages (from jinja2>=2.4->nbconvert==6.0.0) (2.0.1)\n",
      "Requirement already satisfied: nest-asyncio in /home/seugaoms/anaconda3/envs/python36/lib/python3.6/site-packages (from nbclient<0.6.0,>=0.5.0->nbconvert==6.0.0) (1.5.1)\n",
      "Requirement already satisfied: jupyter-client>=6.1.5 in /home/seugaoms/anaconda3/envs/python36/lib/python3.6/site-packages (from nbclient<0.6.0,>=0.5.0->nbconvert==6.0.0) (6.1.12)\n",
      "Requirement already satisfied: async-generator in /home/seugaoms/anaconda3/envs/python36/lib/python3.6/site-packages (from nbclient<0.6.0,>=0.5.0->nbconvert==6.0.0) (1.10)\n",
      "Requirement already satisfied: jsonschema!=2.5.0,>=2.4 in /home/seugaoms/anaconda3/envs/python36/lib/python3.6/site-packages (from nbformat>=4.4->nbconvert==6.0.0) (3.2.0)\n",
      "Requirement already satisfied: ipython-genutils in /home/seugaoms/anaconda3/envs/python36/lib/python3.6/site-packages (from nbformat>=4.4->nbconvert==6.0.0) (0.2.0)\n",
      "Requirement already satisfied: decorator in /home/seugaoms/anaconda3/envs/python36/lib/python3.6/site-packages (from traitlets>=4.2->nbconvert==6.0.0) (4.4.2)\n",
      "Requirement already satisfied: six in /home/seugaoms/anaconda3/envs/python36/lib/python3.6/site-packages (from traitlets>=4.2->nbconvert==6.0.0) (1.15.0)\n",
      "Requirement already satisfied: packaging in /home/seugaoms/anaconda3/envs/python36/lib/python3.6/site-packages (from bleach->nbconvert==6.0.0) (20.9)\n",
      "Requirement already satisfied: webencodings in /home/seugaoms/anaconda3/envs/python36/lib/python3.6/site-packages (from bleach->nbconvert==6.0.0) (0.5.1)\n",
      "Requirement already satisfied: importlib-metadata in /home/seugaoms/anaconda3/envs/python36/lib/python3.6/site-packages (from jsonschema!=2.5.0,>=2.4->nbformat>=4.4->nbconvert==6.0.0) (3.10.1)\n",
      "Requirement already satisfied: attrs>=17.4.0 in /home/seugaoms/anaconda3/envs/python36/lib/python3.6/site-packages (from jsonschema!=2.5.0,>=2.4->nbformat>=4.4->nbconvert==6.0.0) (20.3.0)\n",
      "Requirement already satisfied: setuptools in /home/seugaoms/anaconda3/envs/python36/lib/python3.6/site-packages (from jsonschema!=2.5.0,>=2.4->nbformat>=4.4->nbconvert==6.0.0) (59.6.0)\n",
      "Requirement already satisfied: pyrsistent>=0.14.0 in /home/seugaoms/anaconda3/envs/python36/lib/python3.6/site-packages (from jsonschema!=2.5.0,>=2.4->nbformat>=4.4->nbconvert==6.0.0) (0.17.3)\n",
      "Requirement already satisfied: tornado>=4.1 in /home/seugaoms/anaconda3/envs/python36/lib/python3.6/site-packages (from jupyter-client>=6.1.5->nbclient<0.6.0,>=0.5.0->nbconvert==6.0.0) (6.1)\n",
      "Requirement already satisfied: python-dateutil>=2.1 in /home/seugaoms/anaconda3/envs/python36/lib/python3.6/site-packages (from jupyter-client>=6.1.5->nbclient<0.6.0,>=0.5.0->nbconvert==6.0.0) (2.8.1)\n",
      "Requirement already satisfied: pyzmq>=13 in /home/seugaoms/anaconda3/envs/python36/lib/python3.6/site-packages (from jupyter-client>=6.1.5->nbclient<0.6.0,>=0.5.0->nbconvert==6.0.0) (22.0.3)\n",
      "Requirement already satisfied: pyparsing>=2.0.2 in /home/seugaoms/anaconda3/envs/python36/lib/python3.6/site-packages (from packaging->bleach->nbconvert==6.0.0) (2.4.7)\n",
      "Requirement already satisfied: typing-extensions>=3.6.4 in /home/seugaoms/anaconda3/envs/python36/lib/python3.6/site-packages (from importlib-metadata->jsonschema!=2.5.0,>=2.4->nbformat>=4.4->nbconvert==6.0.0) (3.7.4.3)\n",
      "Requirement already satisfied: zipp>=0.5 in /home/seugaoms/anaconda3/envs/python36/lib/python3.6/site-packages (from importlib-metadata->jsonschema!=2.5.0,>=2.4->nbformat>=4.4->nbconvert==6.0.0) (3.4.1)\n"
     ]
    }
   ],
   "source": [
    "# !pip install nbconvert==6.0.0"
   ]
  },
  {
   "cell_type": "markdown",
   "id": "545122d0-66f8-44d9-a088-96b78fded6db",
   "metadata": {
    "tags": []
   },
   "source": [
    "# 【未完成】tensorboard\n"
   ]
  },
  {
   "cell_type": "code",
   "execution_count": 9,
   "id": "23a3595d-87e8-4d04-afb1-c7dc595683bd",
   "metadata": {},
   "outputs": [
    {
     "name": "stdout",
     "output_type": "stream",
     "text": [
      "2022-10-13 19:01:12.974482: E tensorflow/stream_executor/cuda/cuda_driver.cc:271] failed call to cuInit: CUDA_ERROR_UNKNOWN: unknown error\n",
      "2022-10-13 19:01:12.974520: I tensorflow/stream_executor/cuda/cuda_diagnostics.cc:156] kernel driver does not appear to be running on this host (seugaoms-Precision-7920-Tower): /proc/driver/nvidia/version does not exist\n",
      "\n",
      "NOTE: Using experimental fast data loading logic. To disable, pass\n",
      "    \"--load_fast=false\" and report issues on GitHub. More details:\n",
      "    https://github.com/tensorflow/tensorboard/issues/4784\n",
      "\n",
      "Serving TensorBoard on localhost; to expose to the network, use a proxy or pass --bind_all\n",
      "TensorBoard 2.6.0 at http://localhost:6006/ (Press CTRL+C to quit)\n",
      "^C\n"
     ]
    }
   ],
   "source": [
    "# !tensorboard --logdir mylogdir"
   ]
  },
  {
   "cell_type": "code",
   "execution_count": 10,
   "id": "87ec39b3-28d8-496d-9fb7-9b7734d31891",
   "metadata": {},
   "outputs": [],
   "source": [
    "# !tensorboard --helpfull"
   ]
  },
  {
   "cell_type": "code",
   "execution_count": 11,
   "id": "5282ded9-a3de-49cd-be61-95b328ecbe90",
   "metadata": {},
   "outputs": [
    {
     "name": "stdout",
     "output_type": "stream",
     "text": [
      "usage: tensorboard [-h] [--helpfull] {serve,dev} ...\n",
      "tensorboard: error: unrecognized arguments: -y\n"
     ]
    }
   ],
   "source": [
    "# !tensorboard dev upload --logdir \\ 'mylogdir' -y"
   ]
  },
  {
   "cell_type": "code",
   "execution_count": 12,
   "id": "f6f16637-7275-4551-b178-221eadd6169a",
   "metadata": {},
   "outputs": [
    {
     "name": "stderr",
     "output_type": "stream",
     "text": [
      "UsageError: Line magic function `%tensorboard` not found.\n"
     ]
    }
   ],
   "source": [
    "# %tensorboard --logdir logs"
   ]
  },
  {
   "cell_type": "code",
   "execution_count": null,
   "id": "4e1e0231-6cbc-4de2-8f41-3f078c4ff5e8",
   "metadata": {},
   "outputs": [],
   "source": []
  },
  {
   "cell_type": "markdown",
   "id": "d04f1e41-4c0c-4d7f-b279-0fc54ff4db04",
   "metadata": {
    "tags": []
   },
   "source": [
    "# 【？】jupyterlab 插件不运行\n"
   ]
  },
  {
   "cell_type": "code",
   "execution_count": 25,
   "id": "23dce0c8-fc39-42ca-bcae-3a61ddc74997",
   "metadata": {},
   "outputs": [
    {
     "name": "stdout",
     "output_type": "stream",
     "text": [
      "Traceback (most recent call last):\n",
      "  File \"/home/seugaoms/anaconda3/envs/python36/bin/jupyter-lab\", line 6, in <module>\n",
      "    from jupyterlab.labapp import main\n",
      "  File \"/home/seugaoms/anaconda3/envs/python36/lib/python3.6/site-packages/jupyterlab/labapp.py\", line 13, in <module>\n",
      "    from jupyter_server.serverapp import flags\n",
      "  File \"/home/seugaoms/anaconda3/envs/python36/lib/python3.6/site-packages/jupyter_server/serverapp.py\", line 83, in <module>\n",
      "    from jupyter_server.services.sessions.sessionmanager import SessionManager\n",
      "  File \"/home/seugaoms/anaconda3/envs/python36/lib/python3.6/site-packages/jupyter_server/services/sessions/sessionmanager.py\", line 22, in <module>\n",
      "    from jupyter_server.traittypes import InstanceFromClasses\n",
      "  File \"/home/seugaoms/anaconda3/envs/python36/lib/python3.6/site-packages/jupyter_server/traittypes.py\", line 7, in <module>\n",
      "    from traitlets.utils.descriptions import describe\n",
      "ModuleNotFoundError: No module named 'traitlets.utils.descriptions'\n"
     ]
    }
   ],
   "source": [
    "!jupyter lab build"
   ]
  },
  {
   "cell_type": "code",
   "execution_count": 26,
   "id": "34a7e2fc-c137-474a-9afa-3fe6d09731ad",
   "metadata": {},
   "outputs": [
    {
     "name": "stdout",
     "output_type": "stream",
     "text": [
      "Requirement already satisfied: traitlets in /home/seugaoms/anaconda3/envs/python36/lib/python3.6/site-packages (4.3.3)\n",
      "Requirement already satisfied: decorator in /home/seugaoms/anaconda3/envs/python36/lib/python3.6/site-packages (from traitlets) (4.4.2)\n",
      "Requirement already satisfied: ipython-genutils in /home/seugaoms/anaconda3/envs/python36/lib/python3.6/site-packages (from traitlets) (0.2.0)\n",
      "Requirement already satisfied: six in /home/seugaoms/anaconda3/envs/python36/lib/python3.6/site-packages (from traitlets) (1.15.0)\n"
     ]
    }
   ],
   "source": [
    "!pip install traitlets"
   ]
  },
  {
   "cell_type": "code",
   "execution_count": 19,
   "id": "a720a6ef-073f-4972-9a4e-9f7ada50ca94",
   "metadata": {},
   "outputs": [
    {
     "name": "stdout",
     "output_type": "stream",
     "text": [
      "[LabBuildApp] JupyterLab 3.2.9\n",
      "[LabBuildApp] Building in /home/seugaoms/anaconda3/envs/python36/share/jupyter/lab\n",
      "[LabBuildApp] Building jupyterlab assets (production, not minimized)\n",
      "Build failed.\n",
      "Troubleshooting: If the build failed due to an out-of-memory error, you\n",
      "may be able to fix it by disabling the `dev_build` and/or `minimize` options.\n",
      "\n",
      "If you are building via the `jupyter lab build` command, you can disable\n",
      "these options like so:\n",
      "\n",
      "jupyter lab build --dev-build=False --minimize=False\n",
      "\n",
      "You can also disable these options for all JupyterLab builds by adding these\n",
      "lines to a Jupyter config file named `jupyter_config.py`:\n",
      "\n",
      "c.LabBuildApp.minimize = False\n",
      "c.LabBuildApp.dev_build = False\n",
      "\n",
      "If you don't already have a `jupyter_config.py` file, you can create one by\n",
      "adding a blank file of that name to any of the Jupyter config directories.\n",
      "The config directories can be listed by running:\n",
      "\n",
      "jupyter --paths\n",
      "\n",
      "Explanation:\n",
      "\n",
      "- `dev-build`: This option controls whether a `dev` or a more streamlined\n",
      "`production` build is used. This option will default to `False` (i.e., the\n",
      "`production` build) for most users. However, if you have any labextensions\n",
      "installed from local files, this option will instead default to `True`.\n",
      "Explicitly setting `dev-build` to `False` will ensure that the `production`\n",
      "build is used in all circumstances.\n",
      "\n",
      "- `minimize`: This option controls whether your JS bundle is minified\n",
      "during the Webpack build, which helps to improve JupyterLab's overall\n",
      "performance. However, the minifier plugin used by Webpack is very memory\n",
      "intensive, so turning it off may help the build finish successfully in\n",
      "low-memory environments.\n",
      "\n",
      "An error occurred.\n",
      "RuntimeError: JupyterLab failed to build\n",
      "See the log file for details:  /tmp/jupyterlab-debug-3_4bjyi1.log\n"
     ]
    }
   ],
   "source": [
    "!jupyter lab build --dev-build=False --minimize=False"
   ]
  },
  {
   "cell_type": "code",
   "execution_count": null,
   "id": "1689c19a-b2fb-464d-aff6-5a84e5348df4",
   "metadata": {},
   "outputs": [],
   "source": [
    "!jupyter labextension list"
   ]
  },
  {
   "cell_type": "markdown",
   "id": "137bdf5d-9576-4e66-b9f5-43a724672d71",
   "metadata": {},
   "source": [
    "# 修改字体\n"
   ]
  },
  {
   "cell_type": "code",
   "execution_count": null,
   "id": "c161fd16-22a1-4ec8-9a75-81c5a3953f92",
   "metadata": {},
   "outputs": [],
   "source": [
    "# 安装主题：\n",
    "!pip install --upgrade jupyterthemes"
   ]
  },
  {
   "cell_type": "code",
   "execution_count": null,
   "id": "66347013-5cad-496a-b778-846955713cf0",
   "metadata": {},
   "outputs": [],
   "source": [
    "# 查看可用主题：\n",
    "!jt -1"
   ]
  },
  {
   "cell_type": "markdown",
   "id": "8ca7f3df-e157-49c3-b143-e12fec378f4f",
   "metadata": {},
   "source": [
    "# 解决jupyter lab 的插件问题"
   ]
  },
  {
   "cell_type": "code",
   "execution_count": 13,
   "id": "a74d72c7-2065-4cb6-97a3-4068c1ea48b9",
   "metadata": {},
   "outputs": [],
   "source": [
    "# 作为这个扩展的作者，我不建议从源代码安装它(或者安装任何其他JupyterLab扩展，这些扩展也是作为预构建扩展分发的，请参阅this answer了解详细信息)。\n",
    "# 相反，请使用JupyterLab 3.0+，并使用pip或conda (不需要构建步骤)安装预构建版本，如自述文件中所示。"
   ]
  },
  {
   "cell_type": "code",
   "execution_count": 14,
   "id": "f4304ca4-ae37-451a-980e-e8d1401f2d44",
   "metadata": {},
   "outputs": [
    {
     "name": "stdout",
     "output_type": "stream",
     "text": [
      "No labextension named \"@krassowski/jupyterlab-lsp\" installed\n"
     ]
    }
   ],
   "source": [
    "# 请卸载源扩展：\n",
    "\n",
    "!jupyter labextension uninstall @krassowski/jupyterlab-lsp\n"
   ]
  },
  {
   "cell_type": "code",
   "execution_count": 15,
   "id": "6b71ce38-0363-4652-8be1-fbbd0b4fa5d9",
   "metadata": {},
   "outputs": [
    {
     "name": "stdout",
     "output_type": "stream",
     "text": [
      "JupyterLab v3.1.10\n",
      "/home/seugaoms/anaconda3/envs/python36/share/jupyter/labextensions\n",
      "        nbdime-jupyterlab v2.1.0 \u001b[32menabled\u001b[0m \u001b[32mOK\u001b[0m\n",
      "        @jupyterlab/git v0.32.2 \u001b[32menabled\u001b[0m \u001b[32mOK\u001b[0m (python, jupyterlab-git)\n",
      "        @jupyter-widgets/jupyterlab-manager v3.0.0 \u001b[32menabled\u001b[0m \u001b[32mOK\u001b[0m (python, jupyterlab_widgets)\n",
      "\n",
      "Other labextensions (built into JupyterLab)\n",
      "   app dir: /home/seugaoms/anaconda3/envs/python36/share/jupyter/lab\n",
      "        @databeanstalk/databeanstalk-theme v1.1.0 \u001b[32menabled\u001b[0m \u001b[32mOK\u001b[0m\n",
      "        @jupyterlab/debugger v3.1.10 \u001b[31mdisabled\u001b[0m \u001b[32mOK\u001b[0m\n",
      "        @jupyterlab/latex v3.0.0 \u001b[32menabled\u001b[0m \u001b[32mOK\u001b[0m\n",
      "        @jupyterlab/pullrequests v3.0.2 \u001b[32menabled\u001b[0m \u001b[32mOK\u001b[0m\n",
      "        @kiteco/jupyterlab-kite v1.2.0 \u001b[32menabled\u001b[0m \u001b[32mOK\u001b[0m\n",
      "        @lckr/jupyterlab_variableinspector v3.0.9 \u001b[32menabled\u001b[0m \u001b[32mOK\u001b[0m\n",
      "        jupyter-matplotlib v0.11.2 \u001b[32menabled\u001b[0m \u001b[32mOK\u001b[0m\n",
      "        jupyterlab-theme-solarized-dark v2.1.0 \u001b[32menabled\u001b[0m \u001b[32mOK\u001b[0m\n",
      "        jupyterlab-topbar-extension v0.6.0 \u001b[32menabled\u001b[0m \u001b[32mOK\u001b[0m\n",
      "\n",
      "\n",
      "Disabled extensions:\n",
      "    @jupyterlab/debugger (all plugins)\n",
      "\n",
      "Build recommended, please run `jupyter lab build`:\n",
      "    @databeanstalk/databeanstalk-theme needs to be included in build\n",
      "    jupyterlab-theme-solarized-dark needs to be included in build\n",
      "    @lckr/jupyterlab_variableinspector needs to be included in build\n",
      "    jupyterlab-topbar-extension needs to be included in build\n"
     ]
    }
   ],
   "source": [
    "# 通过检查确保它已消失：\n",
    "\n",
    "!jupyter labextension list\n"
   ]
  },
  {
   "cell_type": "code",
   "execution_count": 16,
   "id": "0b823981-e2a6-4917-b580-5de6fa1a9342",
   "metadata": {},
   "outputs": [],
   "source": [
    "# 更新JupyterLab：\n",
    "\n",
    "# !pip install -U jupyterlab>=3\n",
    "# or if using conda:\n",
    "# conda install -c conda-forge jupyterlab>=3\n"
   ]
  },
  {
   "cell_type": "code",
   "execution_count": 17,
   "id": "858f055a-2cf7-4dc9-9c97-4a100fde7154",
   "metadata": {},
   "outputs": [
    {
     "name": "stdout",
     "output_type": "stream",
     "text": [
      "Collecting jupyterlab-lsp\n",
      "  Downloading jupyterlab_lsp-3.9.2-py3-none-any.whl (550 kB)\n",
      "     |████████████████████████████████| 550 kB 452 kB/s            \n",
      "\u001b[?25hRequirement already satisfied: jupyterlab<4.0.0a0,>=3.0.0 in /home/seugaoms/anaconda3/envs/python36/lib/python3.6/site-packages (from jupyterlab-lsp) (3.2.9)\n",
      "Collecting jupyter-lsp>=1.4.0\n",
      "  Downloading jupyter_lsp-1.5.1-py3-none-any.whl (54 kB)\n",
      "     |████████████████████████████████| 54 kB 238 kB/s             \n",
      "\u001b[?25hRequirement already satisfied: entrypoints in /home/seugaoms/anaconda3/envs/python36/lib/python3.6/site-packages (from jupyter-lsp>=1.4.0->jupyterlab-lsp) (0.3)\n",
      "Requirement already satisfied: jupyter-server>=1.1.2 in /home/seugaoms/anaconda3/envs/python36/lib/python3.6/site-packages (from jupyter-lsp>=1.4.0->jupyterlab-lsp) (1.6.2)\n",
      "Requirement already satisfied: ipython in /home/seugaoms/anaconda3/envs/python36/lib/python3.6/site-packages (from jupyterlab<4.0.0a0,>=3.0.0->jupyterlab-lsp) (7.16.3)\n",
      "Requirement already satisfied: jinja2>=2.1 in /home/seugaoms/anaconda3/envs/python36/lib/python3.6/site-packages (from jupyterlab<4.0.0a0,>=3.0.0->jupyterlab-lsp) (3.0.2)\n",
      "Requirement already satisfied: nbclassic~=0.2 in /home/seugaoms/anaconda3/envs/python36/lib/python3.6/site-packages (from jupyterlab<4.0.0a0,>=3.0.0->jupyterlab-lsp) (0.2.7)\n",
      "Requirement already satisfied: jupyter-core in /home/seugaoms/anaconda3/envs/python36/lib/python3.6/site-packages (from jupyterlab<4.0.0a0,>=3.0.0->jupyterlab-lsp) (4.7.1)\n",
      "Requirement already satisfied: tornado>=6.1.0 in /home/seugaoms/anaconda3/envs/python36/lib/python3.6/site-packages (from jupyterlab<4.0.0a0,>=3.0.0->jupyterlab-lsp) (6.1)\n",
      "Requirement already satisfied: jupyterlab-server~=2.3 in /home/seugaoms/anaconda3/envs/python36/lib/python3.6/site-packages (from jupyterlab<4.0.0a0,>=3.0.0->jupyterlab-lsp) (2.4.0)\n",
      "Requirement already satisfied: packaging in /home/seugaoms/anaconda3/envs/python36/lib/python3.6/site-packages (from jupyterlab<4.0.0a0,>=3.0.0->jupyterlab-lsp) (20.9)\n",
      "Requirement already satisfied: MarkupSafe>=2.0 in /home/seugaoms/anaconda3/envs/python36/lib/python3.6/site-packages (from jinja2>=2.1->jupyterlab<4.0.0a0,>=3.0.0->jupyterlab-lsp) (2.0.1)\n",
      "Requirement already satisfied: argon2-cffi in /home/seugaoms/anaconda3/envs/python36/lib/python3.6/site-packages (from jupyter-server>=1.1.2->jupyter-lsp>=1.4.0->jupyterlab-lsp) (20.1.0)\n",
      "Requirement already satisfied: traitlets>=4.2.1 in /home/seugaoms/anaconda3/envs/python36/lib/python3.6/site-packages (from jupyter-server>=1.1.2->jupyter-lsp>=1.4.0->jupyterlab-lsp) (4.3.3)\n",
      "Requirement already satisfied: nbconvert in /home/seugaoms/anaconda3/envs/python36/lib/python3.6/site-packages (from jupyter-server>=1.1.2->jupyter-lsp>=1.4.0->jupyterlab-lsp) (6.0.0)\n",
      "Requirement already satisfied: anyio>=2.0.2 in /home/seugaoms/anaconda3/envs/python36/lib/python3.6/site-packages (from jupyter-server>=1.1.2->jupyter-lsp>=1.4.0->jupyterlab-lsp) (2.2.0)\n",
      "Requirement already satisfied: jupyter-client>=6.1.1 in /home/seugaoms/anaconda3/envs/python36/lib/python3.6/site-packages (from jupyter-server>=1.1.2->jupyter-lsp>=1.4.0->jupyterlab-lsp) (6.1.12)\n",
      "Requirement already satisfied: Send2Trash in /home/seugaoms/anaconda3/envs/python36/lib/python3.6/site-packages (from jupyter-server>=1.1.2->jupyter-lsp>=1.4.0->jupyterlab-lsp) (1.5.0)\n",
      "Requirement already satisfied: pyzmq>=17 in /home/seugaoms/anaconda3/envs/python36/lib/python3.6/site-packages (from jupyter-server>=1.1.2->jupyter-lsp>=1.4.0->jupyterlab-lsp) (22.0.3)\n",
      "Requirement already satisfied: terminado>=0.8.3 in /home/seugaoms/anaconda3/envs/python36/lib/python3.6/site-packages (from jupyter-server>=1.1.2->jupyter-lsp>=1.4.0->jupyterlab-lsp) (0.9.4)\n",
      "Requirement already satisfied: ipython-genutils in /home/seugaoms/anaconda3/envs/python36/lib/python3.6/site-packages (from jupyter-server>=1.1.2->jupyter-lsp>=1.4.0->jupyterlab-lsp) (0.2.0)\n",
      "Requirement already satisfied: jupyter-packaging~=0.9 in /home/seugaoms/anaconda3/envs/python36/lib/python3.6/site-packages (from jupyter-server>=1.1.2->jupyter-lsp>=1.4.0->jupyterlab-lsp) (0.9.1)\n",
      "Requirement already satisfied: prometheus-client in /home/seugaoms/anaconda3/envs/python36/lib/python3.6/site-packages (from jupyter-server>=1.1.2->jupyter-lsp>=1.4.0->jupyterlab-lsp) (0.10.1)\n",
      "Requirement already satisfied: nbformat in /home/seugaoms/anaconda3/envs/python36/lib/python3.6/site-packages (from jupyter-server>=1.1.2->jupyter-lsp>=1.4.0->jupyterlab-lsp) (5.1.3)\n",
      "Requirement already satisfied: babel in /home/seugaoms/anaconda3/envs/python36/lib/python3.6/site-packages (from jupyterlab-server~=2.3->jupyterlab<4.0.0a0,>=3.0.0->jupyterlab-lsp) (2.9.0)\n",
      "Requirement already satisfied: json5 in /home/seugaoms/anaconda3/envs/python36/lib/python3.6/site-packages (from jupyterlab-server~=2.3->jupyterlab<4.0.0a0,>=3.0.0->jupyterlab-lsp) (0.9.5)\n",
      "Requirement already satisfied: jsonschema>=3.0.1 in /home/seugaoms/anaconda3/envs/python36/lib/python3.6/site-packages (from jupyterlab-server~=2.3->jupyterlab<4.0.0a0,>=3.0.0->jupyterlab-lsp) (3.2.0)\n",
      "Requirement already satisfied: requests in /home/seugaoms/anaconda3/envs/python36/lib/python3.6/site-packages (from jupyterlab-server~=2.3->jupyterlab<4.0.0a0,>=3.0.0->jupyterlab-lsp) (2.25.1)\n",
      "Requirement already satisfied: notebook<7 in /home/seugaoms/anaconda3/envs/python36/lib/python3.6/site-packages (from nbclassic~=0.2->jupyterlab<4.0.0a0,>=3.0.0->jupyterlab-lsp) (6.3.0)\n",
      "Requirement already satisfied: pygments in /home/seugaoms/anaconda3/envs/python36/lib/python3.6/site-packages (from ipython->jupyterlab<4.0.0a0,>=3.0.0->jupyterlab-lsp) (2.8.1)\n",
      "Requirement already satisfied: prompt-toolkit!=3.0.0,!=3.0.1,<3.1.0,>=2.0.0 in /home/seugaoms/anaconda3/envs/python36/lib/python3.6/site-packages (from ipython->jupyterlab<4.0.0a0,>=3.0.0->jupyterlab-lsp) (3.0.31)\n",
      "Requirement already satisfied: jedi<=0.17.2,>=0.10 in /home/seugaoms/anaconda3/envs/python36/lib/python3.6/site-packages (from ipython->jupyterlab<4.0.0a0,>=3.0.0->jupyterlab-lsp) (0.17.2)\n",
      "Requirement already satisfied: pickleshare in /home/seugaoms/anaconda3/envs/python36/lib/python3.6/site-packages (from ipython->jupyterlab<4.0.0a0,>=3.0.0->jupyterlab-lsp) (0.7.5)\n",
      "Requirement already satisfied: setuptools>=18.5 in /home/seugaoms/anaconda3/envs/python36/lib/python3.6/site-packages (from ipython->jupyterlab<4.0.0a0,>=3.0.0->jupyterlab-lsp) (59.6.0)\n",
      "Requirement already satisfied: decorator in /home/seugaoms/anaconda3/envs/python36/lib/python3.6/site-packages (from ipython->jupyterlab<4.0.0a0,>=3.0.0->jupyterlab-lsp) (4.4.2)\n",
      "Requirement already satisfied: pexpect in /home/seugaoms/anaconda3/envs/python36/lib/python3.6/site-packages (from ipython->jupyterlab<4.0.0a0,>=3.0.0->jupyterlab-lsp) (4.8.0)\n",
      "Requirement already satisfied: backcall in /home/seugaoms/anaconda3/envs/python36/lib/python3.6/site-packages (from ipython->jupyterlab<4.0.0a0,>=3.0.0->jupyterlab-lsp) (0.2.0)\n",
      "Requirement already satisfied: pyparsing>=2.0.2 in /home/seugaoms/anaconda3/envs/python36/lib/python3.6/site-packages (from packaging->jupyterlab<4.0.0a0,>=3.0.0->jupyterlab-lsp) (2.4.7)\n",
      "Requirement already satisfied: sniffio>=1.1 in /home/seugaoms/anaconda3/envs/python36/lib/python3.6/site-packages (from anyio>=2.0.2->jupyter-server>=1.1.2->jupyter-lsp>=1.4.0->jupyterlab-lsp) (1.2.0)\n",
      "Requirement already satisfied: dataclasses in /home/seugaoms/anaconda3/envs/python36/lib/python3.6/site-packages (from anyio>=2.0.2->jupyter-server>=1.1.2->jupyter-lsp>=1.4.0->jupyterlab-lsp) (0.8)\n",
      "Requirement already satisfied: idna>=2.8 in /home/seugaoms/anaconda3/envs/python36/lib/python3.6/site-packages (from anyio>=2.0.2->jupyter-server>=1.1.2->jupyter-lsp>=1.4.0->jupyterlab-lsp) (2.10)\n",
      "Requirement already satisfied: async-generator in /home/seugaoms/anaconda3/envs/python36/lib/python3.6/site-packages (from anyio>=2.0.2->jupyter-server>=1.1.2->jupyter-lsp>=1.4.0->jupyterlab-lsp) (1.10)\n",
      "Requirement already satisfied: typing-extensions in /home/seugaoms/anaconda3/envs/python36/lib/python3.6/site-packages (from anyio>=2.0.2->jupyter-server>=1.1.2->jupyter-lsp>=1.4.0->jupyterlab-lsp) (3.7.4.3)\n",
      "Requirement already satisfied: parso<0.8.0,>=0.7.0 in /home/seugaoms/anaconda3/envs/python36/lib/python3.6/site-packages (from jedi<=0.17.2,>=0.10->ipython->jupyterlab<4.0.0a0,>=3.0.0->jupyterlab-lsp) (0.7.1)\n",
      "Requirement already satisfied: pyrsistent>=0.14.0 in /home/seugaoms/anaconda3/envs/python36/lib/python3.6/site-packages (from jsonschema>=3.0.1->jupyterlab-server~=2.3->jupyterlab<4.0.0a0,>=3.0.0->jupyterlab-lsp) (0.17.3)\n",
      "Requirement already satisfied: six>=1.11.0 in /home/seugaoms/anaconda3/envs/python36/lib/python3.6/site-packages (from jsonschema>=3.0.1->jupyterlab-server~=2.3->jupyterlab<4.0.0a0,>=3.0.0->jupyterlab-lsp) (1.15.0)\n",
      "Requirement already satisfied: attrs>=17.4.0 in /home/seugaoms/anaconda3/envs/python36/lib/python3.6/site-packages (from jsonschema>=3.0.1->jupyterlab-server~=2.3->jupyterlab<4.0.0a0,>=3.0.0->jupyterlab-lsp) (20.3.0)\n",
      "Requirement already satisfied: importlib-metadata in /home/seugaoms/anaconda3/envs/python36/lib/python3.6/site-packages (from jsonschema>=3.0.1->jupyterlab-server~=2.3->jupyterlab<4.0.0a0,>=3.0.0->jupyterlab-lsp) (3.10.1)\n",
      "Requirement already satisfied: python-dateutil>=2.1 in /home/seugaoms/anaconda3/envs/python36/lib/python3.6/site-packages (from jupyter-client>=6.1.1->jupyter-server>=1.1.2->jupyter-lsp>=1.4.0->jupyterlab-lsp) (2.8.1)\n",
      "Requirement already satisfied: deprecation in /home/seugaoms/anaconda3/envs/python36/lib/python3.6/site-packages (from jupyter-packaging~=0.9->jupyter-server>=1.1.2->jupyter-lsp>=1.4.0->jupyterlab-lsp) (2.1.0)\n",
      "Requirement already satisfied: tomlkit in /home/seugaoms/anaconda3/envs/python36/lib/python3.6/site-packages (from jupyter-packaging~=0.9->jupyter-server>=1.1.2->jupyter-lsp>=1.4.0->jupyterlab-lsp) (0.7.0)\n",
      "Requirement already satisfied: wheel in /home/seugaoms/anaconda3/envs/python36/lib/python3.6/site-packages (from jupyter-packaging~=0.9->jupyter-server>=1.1.2->jupyter-lsp>=1.4.0->jupyterlab-lsp) (0.36.2)\n",
      "Requirement already satisfied: ipykernel in /home/seugaoms/anaconda3/envs/python36/lib/python3.6/site-packages (from notebook<7->nbclassic~=0.2->jupyterlab<4.0.0a0,>=3.0.0->jupyterlab-lsp) (5.5.3)\n",
      "Requirement already satisfied: wcwidth in /home/seugaoms/anaconda3/envs/python36/lib/python3.6/site-packages (from prompt-toolkit!=3.0.0,!=3.0.1,<3.1.0,>=2.0.0->ipython->jupyterlab<4.0.0a0,>=3.0.0->jupyterlab-lsp) (0.2.5)\n",
      "Requirement already satisfied: ptyprocess in /home/seugaoms/anaconda3/envs/python36/lib/python3.6/site-packages (from terminado>=0.8.3->jupyter-server>=1.1.2->jupyter-lsp>=1.4.0->jupyterlab-lsp) (0.7.0)\n",
      "Requirement already satisfied: cffi>=1.0.0 in /home/seugaoms/anaconda3/envs/python36/lib/python3.6/site-packages (from argon2-cffi->jupyter-server>=1.1.2->jupyter-lsp>=1.4.0->jupyterlab-lsp) (1.14.5)\n",
      "Requirement already satisfied: pytz>=2015.7 in /home/seugaoms/anaconda3/envs/python36/lib/python3.6/site-packages (from babel->jupyterlab-server~=2.3->jupyterlab<4.0.0a0,>=3.0.0->jupyterlab-lsp) (2021.1)\n",
      "Requirement already satisfied: jupyterlab-pygments in /home/seugaoms/anaconda3/envs/python36/lib/python3.6/site-packages (from nbconvert->jupyter-server>=1.1.2->jupyter-lsp>=1.4.0->jupyterlab-lsp) (0.1.2)\n",
      "Requirement already satisfied: bleach in /home/seugaoms/anaconda3/envs/python36/lib/python3.6/site-packages (from nbconvert->jupyter-server>=1.1.2->jupyter-lsp>=1.4.0->jupyterlab-lsp) (3.3.0)\n",
      "Requirement already satisfied: mistune<2,>=0.8.1 in /home/seugaoms/anaconda3/envs/python36/lib/python3.6/site-packages (from nbconvert->jupyter-server>=1.1.2->jupyter-lsp>=1.4.0->jupyterlab-lsp) (0.8.4)\n",
      "Requirement already satisfied: testpath in /home/seugaoms/anaconda3/envs/python36/lib/python3.6/site-packages (from nbconvert->jupyter-server>=1.1.2->jupyter-lsp>=1.4.0->jupyterlab-lsp) (0.4.4)\n",
      "Requirement already satisfied: nbclient<0.6.0,>=0.5.0 in /home/seugaoms/anaconda3/envs/python36/lib/python3.6/site-packages (from nbconvert->jupyter-server>=1.1.2->jupyter-lsp>=1.4.0->jupyterlab-lsp) (0.5.3)\n",
      "Requirement already satisfied: pandocfilters>=1.4.1 in /home/seugaoms/anaconda3/envs/python36/lib/python3.6/site-packages (from nbconvert->jupyter-server>=1.1.2->jupyter-lsp>=1.4.0->jupyterlab-lsp) (1.4.2)\n",
      "Requirement already satisfied: defusedxml in /home/seugaoms/anaconda3/envs/python36/lib/python3.6/site-packages (from nbconvert->jupyter-server>=1.1.2->jupyter-lsp>=1.4.0->jupyterlab-lsp) (0.7.1)\n",
      "Requirement already satisfied: chardet<5,>=3.0.2 in /home/seugaoms/anaconda3/envs/python36/lib/python3.6/site-packages (from requests->jupyterlab-server~=2.3->jupyterlab<4.0.0a0,>=3.0.0->jupyterlab-lsp) (4.0.0)\n",
      "Requirement already satisfied: urllib3<1.27,>=1.21.1 in /home/seugaoms/anaconda3/envs/python36/lib/python3.6/site-packages (from requests->jupyterlab-server~=2.3->jupyterlab<4.0.0a0,>=3.0.0->jupyterlab-lsp) (1.26.6)\n",
      "Requirement already satisfied: certifi>=2017.4.17 in /home/seugaoms/anaconda3/envs/python36/lib/python3.6/site-packages (from requests->jupyterlab-server~=2.3->jupyterlab<4.0.0a0,>=3.0.0->jupyterlab-lsp) (2021.5.30)\n",
      "Requirement already satisfied: pycparser in /home/seugaoms/anaconda3/envs/python36/lib/python3.6/site-packages (from cffi>=1.0.0->argon2-cffi->jupyter-server>=1.1.2->jupyter-lsp>=1.4.0->jupyterlab-lsp) (2.20)\n",
      "Requirement already satisfied: nest-asyncio in /home/seugaoms/anaconda3/envs/python36/lib/python3.6/site-packages (from nbclient<0.6.0,>=0.5.0->nbconvert->jupyter-server>=1.1.2->jupyter-lsp>=1.4.0->jupyterlab-lsp) (1.5.1)\n",
      "Requirement already satisfied: contextvars>=2.1 in /home/seugaoms/anaconda3/envs/python36/lib/python3.6/site-packages (from sniffio>=1.1->anyio>=2.0.2->jupyter-server>=1.1.2->jupyter-lsp>=1.4.0->jupyterlab-lsp) (2.4)\n",
      "Requirement already satisfied: webencodings in /home/seugaoms/anaconda3/envs/python36/lib/python3.6/site-packages (from bleach->nbconvert->jupyter-server>=1.1.2->jupyter-lsp>=1.4.0->jupyterlab-lsp) (0.5.1)\n",
      "Requirement already satisfied: zipp>=0.5 in /home/seugaoms/anaconda3/envs/python36/lib/python3.6/site-packages (from importlib-metadata->jsonschema>=3.0.1->jupyterlab-server~=2.3->jupyterlab<4.0.0a0,>=3.0.0->jupyterlab-lsp) (3.4.1)\n",
      "Requirement already satisfied: immutables>=0.9 in /home/seugaoms/anaconda3/envs/python36/lib/python3.6/site-packages (from contextvars>=2.1->sniffio>=1.1->anyio>=2.0.2->jupyter-server>=1.1.2->jupyter-lsp>=1.4.0->jupyterlab-lsp) (0.15)\n",
      "Installing collected packages: jupyter-lsp, jupyterlab-lsp\n",
      "Successfully installed jupyter-lsp-1.5.1 jupyterlab-lsp-3.9.2\n"
     ]
    }
   ],
   "source": [
    "# 然后安装扩展：\n",
    "\n",
    "!pip install jupyterlab-lsp\n",
    "# or if using conda:\n",
    "# conda install -c conda-forge jupyterlab-lsp\n",
    "\n",
    "# 并根据需要安装语言服务器，并在自述文件中进行说明。如果有什么问题，请告诉我。"
   ]
  },
  {
   "cell_type": "code",
   "execution_count": 24,
   "id": "489ae721-867c-432d-a116-28e5e0cb713c",
   "metadata": {},
   "outputs": [
    {
     "name": "stdout",
     "output_type": "stream",
     "text": [
      "Traceback (most recent call last):\n",
      "  File \"/home/seugaoms/anaconda3/envs/python36/bin/jupyter-labextension\", line 6, in <module>\n",
      "    from jupyterlab.labextensions import main\n",
      "  File \"/home/seugaoms/anaconda3/envs/python36/lib/python3.6/site-packages/jupyterlab/labextensions.py\", line 14, in <module>\n",
      "    from jupyterlab.coreconfig import CoreConfig\n",
      "  File \"/home/seugaoms/anaconda3/envs/python36/lib/python3.6/site-packages/jupyterlab/coreconfig.py\", line 9, in <module>\n",
      "    from .jlpmapp import HERE\n",
      "  File \"/home/seugaoms/anaconda3/envs/python36/lib/python3.6/site-packages/jupyterlab/jlpmapp.py\", line 10, in <module>\n",
      "    from jupyterlab_server.process import subprocess, which\n",
      "  File \"/home/seugaoms/anaconda3/envs/python36/lib/python3.6/site-packages/jupyterlab_server/__init__.py\", line 4, in <module>\n",
      "    from .app import LabServerApp\n",
      "  File \"/home/seugaoms/anaconda3/envs/python36/lib/python3.6/site-packages/jupyterlab_server/app.py\", line 7, in <module>\n",
      "    from jupyter_server.extension.application import ExtensionApp, ExtensionAppJinjaMixin\n",
      "  File \"/home/seugaoms/anaconda3/envs/python36/lib/python3.6/site-packages/jupyter_server/extension/application.py\", line 20, in <module>\n",
      "    from jupyter_server.serverapp import ServerApp\n",
      "  File \"/home/seugaoms/anaconda3/envs/python36/lib/python3.6/site-packages/jupyter_server/serverapp.py\", line 83, in <module>\n",
      "    from jupyter_server.services.sessions.sessionmanager import SessionManager\n",
      "  File \"/home/seugaoms/anaconda3/envs/python36/lib/python3.6/site-packages/jupyter_server/services/sessions/sessionmanager.py\", line 22, in <module>\n",
      "    from jupyter_server.traittypes import InstanceFromClasses\n",
      "  File \"/home/seugaoms/anaconda3/envs/python36/lib/python3.6/site-packages/jupyter_server/traittypes.py\", line 7, in <module>\n",
      "    from traitlets.utils.descriptions import describe\n",
      "ModuleNotFoundError: No module named 'traitlets.utils.descriptions'\n"
     ]
    }
   ],
   "source": [
    "!jupyter labextension install @jupyterlab/toc"
   ]
  },
  {
   "cell_type": "code",
   "execution_count": 23,
   "id": "b5ae88e4-5193-4f0f-b1d2-a583b0c51eb9",
   "metadata": {},
   "outputs": [
    {
     "name": "stdout",
     "output_type": "stream",
     "text": [
      "ERROR: unknown command \"upgrade\"\n"
     ]
    }
   ],
   "source": []
  },
  {
   "cell_type": "code",
   "execution_count": null,
   "id": "7224e0a3-d77f-4db8-b5f2-3386f5bc60a2",
   "metadata": {},
   "outputs": [],
   "source": []
  }
 ],
 "metadata": {
  "kernelspec": {
   "display_name": "Python 3",
   "language": "python",
   "name": "python3"
  },
  "language_info": {
   "codemirror_mode": {
    "name": "ipython",
    "version": 3
   },
   "file_extension": ".py",
   "mimetype": "text/x-python",
   "name": "python",
   "nbconvert_exporter": "python",
   "pygments_lexer": "ipython3",
   "version": "3.6.13"
  }
 },
 "nbformat": 4,
 "nbformat_minor": 5
}
